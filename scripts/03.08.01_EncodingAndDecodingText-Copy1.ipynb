{
 "cells": [
  {
   "cell_type": "markdown",
   "metadata": {},
   "source": [
    "## Encoding and Decoding when working with Text\n",
    "\n",
    "The way computers interpret texts is different than the way we interpret texts. For us, we can simply read the text as it is and be able to recognize what it means. However, computers do things a little differently. Instead of storing the actual \"letters\", \"numbers\", or any kind of data, everything all real world data are represented by *bits*, 0's and 1's.\n",
    "\n",
    "Now the way a \"number\" is represented in a computer's memory is as a binary number, a number expressed as a combination of 0's and 1's.\n",
    "\n",
    "For example:\n",
    "![](../binary_number_system.png)\n",
    "\n",
    "But binary numbers can become too long, so we can shorten binary numbers by converting them to hexidecimals using the table below. Starting from the right, every 4 binaries will be converted to 1 hexidecimal.\n",
    "\n",
    "![](../hexadecimal-number-chart.jpg)\n",
    "\n",
    "For the example above, the equivalent hexidecimal to the binary number `11101110` is `EE`.\n",
    "\n",
    "Thus, `119` = `11101110` = `EE` using the systems described above.\n",
    "\n",
    "In a computer, 8 binary numbers = 1 byte\n",
    "\n",
    "### Encoding and Decoding\n",
    "\n",
    "There are numerous ways to convert \"letters\" to *bits*, called **encoding**. Different computers have different encoding methods due to difference in operating system, languages, etc.\n",
    "\n",
    "In the past, [American Standard Code for Information Interchange](http://www.asciitable.com) (ASCII) was the standard character encoding across computers. But the number of ways to encoding a character using the ASCII table is very limited. If you clicked on the link, you'll see that there are only 256 character encodings. This means that we would have no way of converting words that are in other languages into *bits*. This is many more character encoding systems have be developed based off of the ASCII character encoding system to be able to encoding more characters. The one character encoding system we use in this class is `UTF-8`, which can handle many more characters. \n",
    "\n",
    "**Encoding** basically takes in a string and converted each of the characters, using some kind of encoding system, into computer data, 0's and 1's. 8 binary numbers is equivalent to a byte (computer memory).\n",
    "\n",
    "**Decoding** is basically the reverse of encoding. Decoding takes in computer data, 0's and 1's, and convert it to text that we are able to intrepet. When decoding, we must specify a character encoding system in order to decoding computer data correctly. Otherwise, we may get garbage text that we cannot understand (example below).\n",
    "\n",
    "Basically, imagine you want to pass a note to your classmate, but you don't want to have other people know what you're reading. You develop some kind of encoding system where each \"letter\" maps to some number, and you pass this encoding letter to your friend. But in order for your friend to decode the letter, you must also tell him or her what kind of encoding system you used. This may sound very inefficient if we were to do it, but it is very efficient for a computer.\n",
    "\n",
    "$$\\text{text} \\xrightarrow{\\text{encoding}} \\text{computer data}$$\n",
    "\n",
    "$$\\text{text} \\xleftarrow{\\text{decoding}} \\text{computer data}$$\n",
    "\n",
    "More details and examples if you're interested: http://kunststube.net/encoding/"
   ]
  },
  {
   "cell_type": "markdown",
   "metadata": {},
   "source": [
    "### 1. Encoding\n",
    "\n",
    "Let's try to encode some text using the ASCII character encoding system first and see how limited it is."
   ]
  },
  {
   "cell_type": "code",
   "execution_count": 1,
   "metadata": {
    "collapsed": false
   },
   "outputs": [
    {
     "data": {
      "text/plain": [
       "b'Hello World!'"
      ]
     },
     "execution_count": 1,
     "metadata": {},
     "output_type": "execute_result"
    }
   ],
   "source": [
    "string = 'Hello World!'\n",
    "string_encoded_ASCII = string.encode('ASCII')\n",
    "string_encoded_ASCII"
   ]
  },
  {
   "cell_type": "markdown",
   "metadata": {},
   "source": [
    "You can see that if we try to encode a string, the output is the same string except with a b in front. The b means that the thing following it is a bytes type. You don't really have to understand the concept of bytes types for this lecture.\n",
    "\n",
    "Now let's try to encoding something other than standard English character using ASCII."
   ]
  },
  {
   "cell_type": "code",
   "execution_count": 2,
   "metadata": {
    "collapsed": false
   },
   "outputs": [
    {
     "ename": "UnicodeEncodeError",
     "evalue": "'ascii' codec can't encode character '\\xe8' in position 5: ordinal not in range(128)",
     "output_type": "error",
     "traceback": [
      "\u001b[0;31m---------------------------------------------------------------------------\u001b[0m",
      "\u001b[0;31mUnicodeEncodeError\u001b[0m                        Traceback (most recent call last)",
      "\u001b[0;32m<ipython-input-2-9c984883d7ac>\u001b[0m in \u001b[0;36m<module>\u001b[0;34m()\u001b[0m\n\u001b[1;32m      1\u001b[0m \u001b[0mstring2\u001b[0m \u001b[0;34m=\u001b[0m \u001b[0;34m'première'\u001b[0m\u001b[0;34m\u001b[0m\u001b[0m\n\u001b[0;32m----> 2\u001b[0;31m \u001b[0mstring2\u001b[0m\u001b[0;34m.\u001b[0m\u001b[0mencode\u001b[0m\u001b[0;34m(\u001b[0m\u001b[0;34m'ASCII'\u001b[0m\u001b[0;34m)\u001b[0m\u001b[0;34m\u001b[0m\u001b[0m\n\u001b[0m",
      "\u001b[0;31mUnicodeEncodeError\u001b[0m: 'ascii' codec can't encode character '\\xe8' in position 5: ordinal not in range(128)"
     ]
    }
   ],
   "source": [
    "string2 = 'première'\n",
    "string2.encode('ASCII')"
   ]
  },
  {
   "cell_type": "markdown",
   "metadata": {},
   "source": [
    "You should get an error from the code above. This is because characters like \"è\" doesn't exist in the ASCII character encoding system. This is why ASCII is very limited.\n",
    "\n",
    "Try again with some text that's in a totally different language, like Spanish, Chinese, German, etc.，with characters that are not in standard 26 alphabets letters. You should get the same error."
   ]
  },
  {
   "cell_type": "code",
   "execution_count": null,
   "metadata": {
    "collapsed": false
   },
   "outputs": [],
   "source": [
    "# Exercise:\n",
    "string3 = ... # <- fill me in\n",
    "string3.encode('ASCII')"
   ]
  },
  {
   "cell_type": "markdown",
   "metadata": {},
   "source": [
    "Now let's try using the `UTF-8` encoding system."
   ]
  },
  {
   "cell_type": "code",
   "execution_count": 3,
   "metadata": {
    "collapsed": false
   },
   "outputs": [],
   "source": [
    "string = 'Hello World!'"
   ]
  },
  {
   "cell_type": "code",
   "execution_count": 4,
   "metadata": {
    "collapsed": false
   },
   "outputs": [
    {
     "data": {
      "text/plain": [
       "b'Hello World!'"
      ]
     },
     "execution_count": 4,
     "metadata": {},
     "output_type": "execute_result"
    }
   ],
   "source": [
    "string_encoded = string.encode('UTF-8')\n",
    "string_encoded"
   ]
  },
  {
   "cell_type": "code",
   "execution_count": 5,
   "metadata": {
    "collapsed": false
   },
   "outputs": [
    {
     "data": {
      "text/plain": [
       "bytes"
      ]
     },
     "execution_count": 5,
     "metadata": {},
     "output_type": "execute_result"
    }
   ],
   "source": [
    "type(string_encoded)"
   ]
  },
  {
   "cell_type": "code",
   "execution_count": 6,
   "metadata": {
    "collapsed": true
   },
   "outputs": [],
   "source": [
    "def byteToBinary(byte):\n",
    "    binary = []\n",
    "    for b in byte:\n",
    "        binary.append(bin(b)[2:])\n",
    "    return binary\n",
    "\n"
   ]
  },
  {
   "cell_type": "code",
   "execution_count": 7,
   "metadata": {
    "collapsed": false
   },
   "outputs": [
    {
     "data": {
      "text/plain": [
       "b'premi\\xc3\\xa8re'"
      ]
     },
     "execution_count": 7,
     "metadata": {},
     "output_type": "execute_result"
    }
   ],
   "source": [
    "string2 = 'première'\n",
    "string2_encoded = string2.encode('UTF-8')\n",
    "string2_encoded"
   ]
  },
  {
   "cell_type": "markdown",
   "metadata": {},
   "source": [
    "Using `UTF-8` encoding system, you should see the standard English characters remain the same, but the special characters got converted to some alien characters in the form `\\x..`. The 2 characters in place of the `..` are actually hexidecimals, which if you recall from above, are equivalent to some form of binary numbers. Standard characters remain the same because of the ASCII character encoding system being the standard for computers in the past.\n",
    "\n",
    "Let's try to encode the foreign language text you had above using `UTF-8` and see what'd we get."
   ]
  },
  {
   "cell_type": "code",
   "execution_count": null,
   "metadata": {
    "collapsed": false,
    "scrolled": true
   },
   "outputs": [],
   "source": [
    "#Exercise\n",
    "string3_encoded = ... # <- fill me in\n",
    "string3_encoded"
   ]
  },
  {
   "cell_type": "markdown",
   "metadata": {},
   "source": [
    "Below is a function that converts the *bytes* to binary that we've seen in the example at the top."
   ]
  },
  {
   "cell_type": "code",
   "execution_count": 8,
   "metadata": {
    "collapsed": false
   },
   "outputs": [
    {
     "data": {
      "text/plain": [
       "['01001000',\n",
       " '01100101',\n",
       " '01101100',\n",
       " '01101100',\n",
       " '01101111',\n",
       " '00100000',\n",
       " '01010111',\n",
       " '01101111',\n",
       " '01110010',\n",
       " '01101100',\n",
       " '01100100',\n",
       " '00100001']"
      ]
     },
     "execution_count": 8,
     "metadata": {},
     "output_type": "execute_result"
    }
   ],
   "source": [
    "def bytesToBinary(byte):\n",
    "    binary = []\n",
    "    for b in byte:\n",
    "        binary.append(\"{0:08b}\".format(b))\n",
    "    return binary\n",
    "\n",
    "binary = bytesToBinary(string_encoded)\n",
    "binary"
   ]
  },
  {
   "cell_type": "markdown",
   "metadata": {},
   "source": [
    "Above is a list of binary numbers that represents each character in `'Hello World!'`. Below is a better representation of the encoding."
   ]
  },
  {
   "cell_type": "code",
   "execution_count": 10,
   "metadata": {
    "collapsed": false
   },
   "outputs": [
    {
     "data": {
      "text/html": [
       "<div>\n",
       "<table border=\"1\" class=\"dataframe\">\n",
       "  <thead>\n",
       "    <tr style=\"text-align: right;\">\n",
       "      <th></th>\n",
       "      <th>string</th>\n",
       "      <th>binary</th>\n",
       "      <th>integer</th>\n",
       "      <th>hexidecimal</th>\n",
       "    </tr>\n",
       "  </thead>\n",
       "  <tbody>\n",
       "    <tr>\n",
       "      <th>0</th>\n",
       "      <td>H</td>\n",
       "      <td>01001000</td>\n",
       "      <td>72</td>\n",
       "      <td>48</td>\n",
       "    </tr>\n",
       "    <tr>\n",
       "      <th>1</th>\n",
       "      <td>e</td>\n",
       "      <td>01100101</td>\n",
       "      <td>101</td>\n",
       "      <td>65</td>\n",
       "    </tr>\n",
       "    <tr>\n",
       "      <th>2</th>\n",
       "      <td>l</td>\n",
       "      <td>01101100</td>\n",
       "      <td>108</td>\n",
       "      <td>6c</td>\n",
       "    </tr>\n",
       "    <tr>\n",
       "      <th>3</th>\n",
       "      <td>l</td>\n",
       "      <td>01101100</td>\n",
       "      <td>108</td>\n",
       "      <td>6c</td>\n",
       "    </tr>\n",
       "    <tr>\n",
       "      <th>4</th>\n",
       "      <td>o</td>\n",
       "      <td>01101111</td>\n",
       "      <td>111</td>\n",
       "      <td>6f</td>\n",
       "    </tr>\n",
       "    <tr>\n",
       "      <th>5</th>\n",
       "      <td></td>\n",
       "      <td>00100000</td>\n",
       "      <td>32</td>\n",
       "      <td>20</td>\n",
       "    </tr>\n",
       "    <tr>\n",
       "      <th>6</th>\n",
       "      <td>W</td>\n",
       "      <td>01010111</td>\n",
       "      <td>87</td>\n",
       "      <td>57</td>\n",
       "    </tr>\n",
       "    <tr>\n",
       "      <th>7</th>\n",
       "      <td>o</td>\n",
       "      <td>01101111</td>\n",
       "      <td>111</td>\n",
       "      <td>6f</td>\n",
       "    </tr>\n",
       "    <tr>\n",
       "      <th>8</th>\n",
       "      <td>r</td>\n",
       "      <td>01110010</td>\n",
       "      <td>114</td>\n",
       "      <td>72</td>\n",
       "    </tr>\n",
       "    <tr>\n",
       "      <th>9</th>\n",
       "      <td>l</td>\n",
       "      <td>01101100</td>\n",
       "      <td>108</td>\n",
       "      <td>6c</td>\n",
       "    </tr>\n",
       "    <tr>\n",
       "      <th>10</th>\n",
       "      <td>d</td>\n",
       "      <td>01100100</td>\n",
       "      <td>100</td>\n",
       "      <td>64</td>\n",
       "    </tr>\n",
       "    <tr>\n",
       "      <th>11</th>\n",
       "      <td>!</td>\n",
       "      <td>00100001</td>\n",
       "      <td>33</td>\n",
       "      <td>21</td>\n",
       "    </tr>\n",
       "  </tbody>\n",
       "</table>\n",
       "</div>"
      ],
      "text/plain": [
       "   string    binary  integer hexidecimal\n",
       "0       H  01001000       72          48\n",
       "1       e  01100101      101          65\n",
       "2       l  01101100      108          6c\n",
       "3       l  01101100      108          6c\n",
       "4       o  01101111      111          6f\n",
       "5          00100000       32          20\n",
       "6       W  01010111       87          57\n",
       "7       o  01101111      111          6f\n",
       "8       r  01110010      114          72\n",
       "9       l  01101100      108          6c\n",
       "10      d  01100100      100          64\n",
       "11      !  00100001       33          21"
      ]
     },
     "execution_count": 10,
     "metadata": {},
     "output_type": "execute_result"
    }
   ],
   "source": [
    "import pandas\n",
    "df = pandas.DataFrame()\n",
    "df['string'] = list(string)\n",
    "df['binary'] = bytesToBinary(string_encoded)\n",
    "df['integer'] = [b for b in string_encoded]\n",
    "df['hexidecimal'] = [hex(int(b, 2))[2:] for b in binary]\n",
    "df"
   ]
  },
  {
   "cell_type": "markdown",
   "metadata": {},
   "source": [
    "### 2. Decoding\n",
    "\n",
    "Let's look at how to decoding some computer data."
   ]
  },
  {
   "cell_type": "code",
   "execution_count": 11,
   "metadata": {
    "collapsed": false
   },
   "outputs": [
    {
     "name": "stdout",
     "output_type": "stream",
     "text": [
      "Before decoding: b'premi\\xc3\\xa8re'\n",
      "After decoding: première\n"
     ]
    }
   ],
   "source": [
    "print('Before decoding:', string2_encoded)\n",
    "\n",
    "string2_decoded = string2_encoded.decode('UTF-8')\n",
    "print('After decoding:' , string2_decoded)"
   ]
  },
  {
   "cell_type": "markdown",
   "metadata": {
    "collapsed": false
   },
   "source": [
    "As described above, decoding takes in some encoding system and converts all of the computer data, *bytes*, back into text that we can read and intrepret.\n",
    "\n",
    "Try decoding the foreign language text you encoded before."
   ]
  },
  {
   "cell_type": "code",
   "execution_count": null,
   "metadata": {
    "collapsed": false
   },
   "outputs": [],
   "source": [
    "#Exercise:\n",
    "print('Before decoding:', string3_encoded)\n",
    "\n",
    "string3_decoded = ... # <- fill me in\n",
    "print('After decoding:' , string3_decoded)"
   ]
  },
  {
   "cell_type": "markdown",
   "metadata": {},
   "source": [
    "Try decoding the computer data below and see what the original string is. Before you actually code, can you tell what the original string is just by looking at raw data?"
   ]
  },
  {
   "cell_type": "code",
   "execution_count": null,
   "metadata": {
    "collapsed": false
   },
   "outputs": [],
   "source": [
    "#Exercise:\n",
    "computer_data = b'\\x48\\x65\\x6c\\x6c\\x6f\\x20\\x57\\x6f\\x72\\x6c\\x64\\x21'\n",
    "computer_data_decoded = ...\n",
    "computer_data_decoded"
   ]
  },
  {
   "cell_type": "markdown",
   "metadata": {},
   "source": [
    "### 3. Encoding and Decoding Text\n",
    "\n",
    "Examples and problems below mirrors [this](http://kunststube.net/encoding/) in the \"Misconceptions, Confusions And Problems\" section.\n",
    "\n",
    "At the beginning of the semester, we warned you to not open any text file using Microsoft Word. This is because Word, by default, uses the default encoding system that your operating system uses to decode a text. This is means that if your operating system using an encoding system that is different from actual encoding system that the text file was encoded in, then you'll get some weird garbage text that makes no sense.\n",
    "\n",
    "By default, Microsoft Word will use the defaul encoding system that your operating system uses. On Mac OS, the default encoding system is `mac-roman`. On windows, the default encoding system is `Latin-1`.\n",
    "\n",
    "Here is an example. Let's say you accidently opened up a text file using Word, and Word converted whatever you had originally to the string below. Let's try to fix this in Python.\n",
    "\n"
   ]
  },
  {
   "cell_type": "code",
   "execution_count": null,
   "metadata": {
    "collapsed": false
   },
   "outputs": [],
   "source": [
    "string_corrupted = 'ÉGÉìÉRÅ[ÉfÉBÉìÉOÇÕìÔÇµÇ≠Ç»Ç¢'"
   ]
  },
  {
   "cell_type": "markdown",
   "metadata": {},
   "source": [
    "Let's assume we opened this text file using Word on Mac OS. That means that whatever the original text contained, it probably got converted into the corrupted string above using the `mac-roman` encoding system. Thus, we must first reverse the encoding process."
   ]
  },
  {
   "cell_type": "code",
   "execution_count": null,
   "metadata": {
    "collapsed": false
   },
   "outputs": [],
   "source": [
    "string_corrupted_encoded = string_corrupted.encode('mac-roman')\n",
    "string_corrupted_encoded"
   ]
  },
  {
   "cell_type": "markdown",
   "metadata": {},
   "source": [
    "We converted corrupted string encoded back into computer data using `mac-roman`. Now we have to figure out what the original encoding system was in order to decode this computer data back into the original. Let's try `UTF-8`."
   ]
  },
  {
   "cell_type": "code",
   "execution_count": null,
   "metadata": {
    "collapsed": false
   },
   "outputs": [],
   "source": [
    "string_corrupted_encoded.decode('UTF-8')"
   ]
  },
  {
   "cell_type": "markdown",
   "metadata": {},
   "source": [
    "But notice how we're getting an error that is similar to that of when we tried to encode and decode some foreign text using ASCII. This pretty much means that the `UTF-8` encoding system isn't the right encoding scheme to use.\n",
    "\n",
    "The original text is actually \"エンコーディングは難しくない\" encoded in Japanese Shift-JIS encoding. Without tell you this, there would've been no way you could've retrieved the original text. But now that we know, can we retrieve the original text?"
   ]
  },
  {
   "cell_type": "code",
   "execution_count": null,
   "metadata": {
    "collapsed": false
   },
   "outputs": [],
   "source": [
    "print('Corrupted string:', string_corrupted, '\\n')\n",
    "original = string_corrupted_encoded.decode('Shift-JIS')\n",
    "print('Original sentence:', original)"
   ]
  },
  {
   "cell_type": "markdown",
   "metadata": {},
   "source": [
    "What went wrong here exactly? What happend was your text file was originally encoded with `Shift-JIS`. But since you tried to open it with Microsoft word, it by default tried to use the `mac-roman` encoding system to decode your text file. This resulted in the corrupted string we see above. \n",
    "\n",
    "In order to get back the original string, we must work backwards. We must first encode our corrupted string using `mac-roman` encoding system back into computer data. Once we have the corrupted string in computer data, we can then decode this data using the correct encoding system, `Shift-JIS` to get back the original Japanese text."
   ]
  },
  {
   "cell_type": "markdown",
   "metadata": {},
   "source": [
    "### Exercises\n",
    "\n",
    "In the data folder, there are 3 files: `chinese_text.txt`, `chinese_text_mac.txt`, and `chinese_text_windows.txt`.\n",
    "The last two texts contains some corrupted characters because I opened `chinese_text.txt` using **Microsoft Word** in its corresponding operating system. If you try to open `chinese_text.txt` on your computer using the default encoding system for your operating system, you should get the corresponding corrupted test.\n",
    "\n",
    "Retrieve the original text.\n",
    "\n",
    "The original text was encoded using `UTF-8`."
   ]
  },
  {
   "cell_type": "code",
   "execution_count": 88,
   "metadata": {
    "collapsed": false,
    "scrolled": true
   },
   "outputs": [
    {
     "data": {
      "text/plain": [
       "'å¹¸é\\x81\\x8bè\\x8d\\x89ï¼\\x8cæ\\x98¯å\\x9b\\x9bè\\x91\\x89ç\\x9a\\x84é\\x85¢æ¼¿è\\x8d\\x89å±¬ï¼\\x8cä¹\\x83æ\\x98¯çª\\x81è®\\x8aç\\x9a\\x84å\\x9b\\x9bæ\\x9e\\x9aå\\x80\\x92å¿\\x83å\\x9e\\x8bå°\\x8fè\\x91\\x89ã\\x80\\x82\\n\\nç\\x9b¸å\\x82³å¹¸é\\x81\\x8bè\\x8d\\x89ç¬¬ä¸\\x80ç\\x89\\x87è\\x91\\x89å\\xad\\x90ä»£è¡¨ä¿¡ä»°ï¼\\x8cç¬¬äº\\x8cç\\x89\\x87ä»£è¡¨æ\\x84\\x9bæ\\x83\\x85ï¼\\x8cç¬¬ä¸\\x89ç\\x89\\x87ä»£è¡¨å¸\\x8cæ\\x9c\\x9bã\\x80\\x82ç\\x95¶å¤\\x9aå\\x87ºä¸\\x80ç\\x89\\x87è\\x91\\x89å\\xad\\x90æ\\x99\\x82ï¼\\x8cé\\x80\\x99ç\\x89\\x87ä»£è¡¨å¹¸é\\x81\\x8bã\\x80\\x82\\n\\né\\x85¢æ¼¿è\\x8d\\x89æ\\x9c\\x89é»\\x83è\\x8a±å\\x92\\x8cç´«è\\x8a±å\\x85©ç¨®ï¼\\x81ä¸\\x80è\\x88¬ç¨±ç\\x82ºé\\x85¢æ¼¿è\\x8d\\x89ç\\x9a\\x84ï¼\\x8cæ\\x98¯æ\\x8c\\x87é»\\x83è\\x8a±é\\x85¢æ¼¿è\\x8d\\x89ï¼\\x8cé\\x96\\x8bç´«è\\x8a±ç\\x9a\\x84å\\x89\\x87ç¨±ä¹\\x8bç\\x82ºç´«è\\x8a±é\\x85¢æ¼¿è\\x8d\\x89ã\\x80\\x82\\n\\né\\x85¢æ¼¿è\\x8d\\x89å±¬æ\\x96¼é\\x85¢æ¼¿è\\x8d\\x89ç§\\x91ï¼\\x8cå\\x8e\\x9fç\\x94¢æ\\x96¼ç\\x86±å¸¶å\\x92\\x8cäº\\x9eç\\x86±å¸¶å\\x9c°å\\x8d\\x80ï¼\\x8cç\\x82ºå¤\\x9aå¹´ç\\x94\\x9fè\\x8d\\x89æ\\x9c¬ç\\x9a\\x84ç\\x90\\x83æ\\xa0¹æ¤\\x8dç\\x89©ï¼\\x8cä¸\\x96ç\\x95\\x8cå\\x90\\x84å\\x9c°ç¸½å\\x85±æ\\x9c\\x89å°\\x87è¿\\x91ä¸\\x89ç\\x99¾å\\x80\\x8bå\\x8e\\x9fç\\x94\\x9fç¨®ã\\x80\\x82æ\\x98¯å¤\\x9aå¹´ç\\x94\\x9få\\x8c\\x8då\\x8c\\x90æ\\x80§è\\x8d\\x89æ\\x9c¬ï¼\\x8cæ\\x9c\\x89èµ°è\\x8e\\x96ï¼\\x8cè\\x91\\x89äº\\x92ç\\x94\\x9fï¼\\x8cç\\x94±3ç\\x89\\x87å°\\x8fè\\x91\\x89æ\\x89\\x80çµ\\x84æ\\x88\\x90ï¼\\x8cå°\\x8fè\\x91\\x89å\\x80\\x92å¿\\x83å½¢ï¼\\x8cé\\x95·ç´\\x840.5ï½\\x9e1å\\x85¬å\\x88\\x86ï¼\\x8cç\\x84¡æ\\x9f\\x84ï¼\\x8cå\\x85\\x88ç«¯å\\x87¹é\\x99·ï¼\\x8cå\\x98\\x97ä¹\\x8bæ\\x9c\\x89é\\x85¸å\\x91³ã\\x80\\x82\\n\\né\\x85¢æ¼¿è\\x8d\\x89æ\\x98¯æ\\x84\\x9bç\\x88¾è\\x98\\xadç\\x9a\\x84å\\x9c\\x8bè\\x8a±ï¼\\x8cè\\x80\\x8cä¸\\x94ç«¥è»\\x8dä¹\\x9fä»¥å®\\x83å\\x81\\x9aå¾½ç«\\xa0ã\\x80\\x82ä¸\\x80è\\x88¬ç\\x9a\\x84é\\x85¢æ¼¿è\\x8d\\x89å\\x8fªæ\\x9c\\x89ä¸\\x89ç\\x89\\x87å°\\x8fè\\x91\\x89ï¼\\x8cå\\x81¶ç\\x88¾æ\\x9c\\x83å\\x87ºç\\x8f¾çª\\x81è®\\x8aç\\x9a\\x84å\\x9b\\x9bç\\x89\\x87å°\\x8fè\\x91\\x89å\\x80\\x8bé«\\x94ï¼\\x8cç¨±ç\\x82ºã\\x80\\x8cå¹¸é\\x81\\x8bè\\x8d\\x89ã\\x80\\x8dï¼\\x8cå\\x82³èªªå¦\\x82æ\\x9e\\x9cæ\\x9c\\x89å\\x9b\\x9bç\\x89\\x87å°\\x8fè\\x91\\x89ç\\x9a\\x84å¹¸é\\x81\\x8bè\\x8d\\x89å°±è\\x83½ è¨±é¡\\x98ä½¿é¡\\x98æ\\x9c\\x9bæ\\x88\\x90ç\\x9c\\x9fï¼\\x8cå¹¸é\\x81\\x8bè\\x8d\\x89ä¹\\x8bæ\\x89\\x80ä»¥ç\\x89¹å\\x88¥ï¼\\x8cå\\x85¶å¯¦å\\x8fªæ\\x98¯ä¸\\x80ç¨®çª\\x81è®\\x8aç\\x8f¾è±¡ï¼\\x8cæ\\x89\\x80ä»¥å¹¸é\\x81\\x8bè\\x8d\\x89ç´\\x94ç²¹å\\x8fªæ\\x98¯çª\\x81è®\\x8aè\\x80\\x8cä¾\\x86ç\\x9a\\x84ã\\x80\\x82å\\x81¶ç\\x88¾æ\\x9c\\x83å\\x87ºç\\x8f¾çª\\x81è®\\x8aç\\x9a\\x84å\\x9b\\x9bæ\\x9e\\x9aå°\\x8fè\\x91\\x89çµ\\x84æ\\x88\\x90ç\\x9a\\x84å\\x80\\x8bé«\\x94ï¼\\x8cå\\x8d³ä¿\\x97ç¨±ç\\x9a\\x84 ã\\x80\\x8cå¹¸é\\x81\\x8bè\\x8d\\x89ã\\x80\\x8dã\\x80\\x82\\n\\nå\\x9b\\x9bè\\x91\\x89é\\x85¢é\\x86¬è\\x8d\\x89ä¸\\x80ç\\x9b´é\\x83½è¢«ç\\x95¶å\\x81\\x9aå¹¸é\\x81\\x8bç\\x9a\\x84è±¡å¾µï¼\\x8cå\\x85¶å¯¦é\\x80\\x99å\\x92\\x8cæ\\x9c\\x89äº\\x9bäººæ\\x9c\\x89å\\x85\\xadæ\\xa0¹æ\\x89\\x8bæ\\x8c\\x87æ\\x98¯ä¸\\x80æ¨£ç\\x9a\\x84é\\x81\\x93ç\\x90\\x86ï¼\\x8cæ\\x9c\\x89æ\\x9f\\x90å\\x80\\x8bé\\x9a¨æ©\\x9fçª\\x81è®\\x8aä½¿æ¤\\x8dç\\x89©é\\x95·å\\x87ºç¬¬å\\x9b\\x9bæ\\xa0¹ã\\x80\\x8cæ\\x89\\x8bæ\\x8c\\x87ã\\x80\\x8dï¼\\x8cå°±å\\x83\\x8fé\\x81ºå\\x82³çª\\x81è®\\x8aä½¿äººå¤\\x9aé\\x95·ä¸\\x80æ\\xa0¹æ\\x89\\x8bæ\\x8c\\x87ä¸\\x80æ¨£ã\\x80\\x82\\n\\nç¾\\x8eå\\x9c\\x8bè¾²æ¥\\xadé\\x83¨è\\xad\\x89å¯¦ï¼\\x8cç\\x94¢ç\\x94\\x9fé\\x80\\x99ç¨®å\\x9b\\x9bè\\x91\\x89ç\\x8f¾è±¡ç\\x9a\\x84é\\x85¢é\\x86¬è\\x8d\\x89å\\x85¶å\\xad¸å\\x90\\x8dæ\\x98¯Trifolium repens L.ï¼\\x8cå\\x8f\\x88ç¨±ç\\x82ºç\\x99½è\\x89²é\\x85¢é\\x86¬è\\x8d\\x89ï¼\\x8cæ\\x98¯ä¸\\x80ç¨®ä¸\\x89è\\x91\\x89ç\\x9a\\x84å¤\\x9aå¹´ç\\x94\\x9fè\\x8d\\x89æ\\x9c¬æ¤\\x8dç\\x89©ï¼\\x8cç\\x94\\x9fé\\x95·ç·©æ\\x85¢ï¼\\x8cä½\\x86æ\\x98¯å¤§ç´\\x84æ¯\\x8f10,000æ\\xa0ªç\\x95¶ä¸\\xadï¼\\x8cæ\\x9c\\x83æ\\x9c\\x89ä¸\\x80æ\\xa0ªé\\x95·å\\x87ºå\\x9b\\x9bç\\x89\\x87è\\x91\\x89å\\xad\\x90ã\\x80\\x82\\n\\næ\\x93\\x9aå¥§å\\x8b\\x92å²¡å·\\x9eç«\\x8bå¤§å\\xad¸æ¤\\x8dç\\x89©å\\x8f\\x8aæ¤\\x8dç\\x97\\x85ç³»æ\\x95\\x99æ\\x8e\\x88äº\\x9eå\\x80«æ\\x9d\\x8eæ\\x96¯é\\xa0\\x93ï¼\\x88Aaron Listonï¼\\x89ç\\x9a\\x84èªªæ³\\x95ï¼\\x8cå¤ªé\\x99½ç\\x9a\\x84ç´«å¤\\x96ç·\\x9aå\\x92\\x8cè\\x82¥æ\\x96\\x99ä¸\\xadç\\x9a\\x84æ\\x9f\\x90äº\\x9bå\\x8c\\x96å\\xad¸ç\\x89©è³ªæ\\x98¯é\\x80\\xa0æ\\x88\\x90æ\\xad¤é¡\\x9eçª\\x81è®\\x8aç\\x9a\\x84é\\x87\\x8dè¦\\x81å\\x8e\\x9få\\x9b\\xa0ã\\x80\\x82è\\x80\\x8cå\\x8e»æ°§æ\\xa0¸é\\x86£æ\\xa0¸é\\x85¸ï¼\\x88DNAï¼\\x89ç\\x99¼ç\\x94\\x9fé\\x8c¯èª¤ä¹\\x9fæ\\x9c\\x83é\\x80\\xa0æ\\x88\\x90çª\\x81è®\\x8aï¼\\x8cå±¬æ\\x96¼é\\x9d\\x9eå¤\\x96å\\x8a\\x9bå\\x9b\\xa0ç´\\xa0ã\\x80\\x82\\n\\nç\\x84¡è«\\x96å¦\\x82ä½\\x95ï¼\\x8cè¨±å¤\\x9aå\\x9c\\x8bå®¶ç¢ºå¯¦é\\x83½æµ\\x81å\\x82³è\\x91\\x97å\\x9b\\x9bè\\x91\\x89å¹¸é\\x81\\x8bé\\x85¢é\\x86¬è\\x8d\\x89ç\\x9a\\x84å\\x82³èªªï¼\\x8cæ\\x97©æ\\x9c\\x9få¨\\x81ç\\x88¾æ\\x96¯ç\\x9a\\x84å¡\\x9eç\\x88¾ç\\x89¹äººç\\x9b¸ä¿¡ç\\x99½è\\x89²é\\x85¢é\\x86¬è\\x8d\\x89å\\x8f¯ä»¥å°\\x8dæ\\x8a\\x97æ\\x83¡é\\xad\\x94ã\\x80\\x821620å¹´ï¼\\x8cç´\\x84ç¿°æ¢\\x85ç\\x88¾é\\xa0\\x93ç\\x88µå£«ï¼\\x88Sir John Meltonï¼\\x89å¯«é\\x81\\x93ï¼\\x9aå¦\\x82æ\\x9e\\x9cæ\\x9c\\x89äººå\\x9c¨ç\\x94°é\\x96\\x93å·§é\\x81\\x87ä»»ä½\\x95æ\\x9c\\x89å\\x9b\\x9bç\\x89\\x87è\\x91\\x89å\\xad\\x90ç\\x9a\\x84è\\x8d\\x89ï¼\\x8cå°±å°\\x87æ\\x9c\\x83æ\\x9c\\x89å¥½é\\x81\\x8bé\\x99\\x8dè\\x87¨ã\\x80\\x82'"
      ]
     },
     "execution_count": 88,
     "metadata": {},
     "output_type": "execute_result"
    }
   ],
   "source": [
    "original = open('../data/chinese_text.txt', encoding='utf-8').read() # Don't worry about the encoding part here.\n",
    "mac = open('../data/chinese_text_mac.txt', encoding='utf-8').read() # This is just to read in the exact test saved \n",
    "windows = open('../data/chinese_text_windows.txt', encoding='utf-8').read() # in the text file.\n",
    "#windows = original.encode('utf-8').decode('latin1')\n",
    "\n",
    "#text_file = open(\"../data/chinese_text_windows.txt\", \"w\")\n",
    "#text_file.write(windows)\n",
    "#text_file.close()\n",
    "windows"
   ]
  },
  {
   "cell_type": "code",
   "execution_count": 77,
   "metadata": {
    "collapsed": false
   },
   "outputs": [
    {
     "data": {
      "text/plain": [
       "'幸運草，是四葉的酢漿草屬，乃是突變的四枚倒心型小葉。\\n\\n相傳幸運草第一片葉子代表信仰，第二片代表愛情，第三片代表希望。當多出一片葉子時，這片代表幸運。\\n\\n酢漿草有黃花和紫花兩種！一般稱為酢漿草的，是指黃花酢漿草，開紫花的則稱之為紫花酢漿草。\\n\\n酢漿草屬於酢漿草科，原產於熱帶和亞熱帶地區，為多年生草本的球根植物，世界各地總共有將近三百個原生種。是多年生匍匐性草本，有走莖，葉互生，由3片小葉所組成，小葉倒心形，長約0.5～1公分，無柄，先端凹陷，嘗之有酸味。\\n\\n酢漿草是愛爾蘭的國花，而且童軍也以它做徽章。一般的酢漿草只有三片小葉，偶爾會出現突變的四片小葉個體，稱為「幸運草」，傳說如果有四片小葉的幸運草就能 許願使願望成真，幸運草之所以特別，其實只是一種突變現象，所以幸運草純粹只是突變而來的。偶爾會出現突變的四枚小葉組成的個體，即俗稱的 「幸運草」。\\n\\n四葉酢醬草一直都被當做幸運的象徵，其實這和有些人有六根手指是一樣的道理，有某個隨機突變使植物長出第四根「手指」，就像遺傳突變使人多長一根手指一樣。\\n\\n美國農業部證實，產生這種四葉現象的酢醬草其學名是Trifolium repens L.，又稱為白色酢醬草，是一種三葉的多年生草本植物，生長緩慢，但是大約每10,000株當中，會有一株長出四片葉子。\\n\\n據奧勒岡州立大學植物及植病系教授亞倫李斯頓（Aaron Liston）的說法，太陽的紫外線和肥料中的某些化學物質是造成此類突變的重要原因。而去氧核醣核酸（DNA）發生錯誤也會造成突變，屬於非外力因素。\\n\\n無論如何，許多國家確實都流傳著四葉幸運酢醬草的傳說，早期威爾斯的塞爾特人相信白色酢醬草可以對抗惡魔。1620年，約翰梅爾頓爵士（Sir John Melton）寫道：如果有人在田間巧遇任何有四片葉子的草，就將會有好運降臨。'"
      ]
     },
     "execution_count": 77,
     "metadata": {},
     "output_type": "execute_result"
    }
   ],
   "source": [
    "mac_original = mac.encode('mac-roman').decode('UTF-8')\n",
    "mac_original"
   ]
  },
  {
   "cell_type": "code",
   "execution_count": 70,
   "metadata": {
    "collapsed": false
   },
   "outputs": [],
   "source": [
    "assert(original == mac_original)"
   ]
  },
  {
   "cell_type": "markdown",
   "metadata": {},
   "source": [
    "The above code makes sure that the `mac_original` you converted must equal to the original text. If you did everything right, nothing would happen. If you converted it wrong, an error will show up."
   ]
  },
  {
   "cell_type": "code",
   "execution_count": 89,
   "metadata": {
    "collapsed": false
   },
   "outputs": [
    {
     "data": {
      "text/plain": [
       "'幸運草，是四葉的酢漿草屬，乃是突變的四枚倒心型小葉。\\n\\n相傳幸運草第一片葉子代表信仰，第二片代表愛情，第三片代表希望。當多出一片葉子時，這片代表幸運。\\n\\n酢漿草有黃花和紫花兩種！一般稱為酢漿草的，是指黃花酢漿草，開紫花的則稱之為紫花酢漿草。\\n\\n酢漿草屬於酢漿草科，原產於熱帶和亞熱帶地區，為多年生草本的球根植物，世界各地總共有將近三百個原生種。是多年生匍匐性草本，有走莖，葉互生，由3片小葉所組成，小葉倒心形，長約0.5～1公分，無柄，先端凹陷，嘗之有酸味。\\n\\n酢漿草是愛爾蘭的國花，而且童軍也以它做徽章。一般的酢漿草只有三片小葉，偶爾會出現突變的四片小葉個體，稱為「幸運草」，傳說如果有四片小葉的幸運草就能 許願使願望成真，幸運草之所以特別，其實只是一種突變現象，所以幸運草純粹只是突變而來的。偶爾會出現突變的四枚小葉組成的個體，即俗稱的 「幸運草」。\\n\\n四葉酢醬草一直都被當做幸運的象徵，其實這和有些人有六根手指是一樣的道理，有某個隨機突變使植物長出第四根「手指」，就像遺傳突變使人多長一根手指一樣。\\n\\n美國農業部證實，產生這種四葉現象的酢醬草其學名是Trifolium repens L.，又稱為白色酢醬草，是一種三葉的多年生草本植物，生長緩慢，但是大約每10,000株當中，會有一株長出四片葉子。\\n\\n據奧勒岡州立大學植物及植病系教授亞倫李斯頓（Aaron Liston）的說法，太陽的紫外線和肥料中的某些化學物質是造成此類突變的重要原因。而去氧核醣核酸（DNA）發生錯誤也會造成突變，屬於非外力因素。\\n\\n無論如何，許多國家確實都流傳著四葉幸運酢醬草的傳說，早期威爾斯的塞爾特人相信白色酢醬草可以對抗惡魔。1620年，約翰梅爾頓爵士（Sir John Melton）寫道：如果有人在田間巧遇任何有四片葉子的草，就將會有好運降臨。'"
      ]
     },
     "execution_count": 89,
     "metadata": {},
     "output_type": "execute_result"
    }
   ],
   "source": [
    "windows_original = windows.encode('latin1').decode('utf-8')\n",
    "windows_original"
   ]
  },
  {
   "cell_type": "code",
   "execution_count": 90,
   "metadata": {
    "collapsed": false
   },
   "outputs": [],
   "source": [
    "assert(original == windows_original)"
   ]
  },
  {
   "cell_type": "code",
   "execution_count": null,
   "metadata": {
    "collapsed": true
   },
   "outputs": [],
   "source": []
  }
 ],
 "metadata": {
  "anaconda-cloud": {},
  "kernelspec": {
   "display_name": "Python 3",
   "language": "python",
   "name": "python3"
  },
  "language_info": {
   "codemirror_mode": {
    "name": "ipython",
    "version": 3
   },
   "file_extension": ".py",
   "mimetype": "text/x-python",
   "name": "python",
   "nbconvert_exporter": "python",
   "pygments_lexer": "ipython3",
   "version": "3.5.2"
  }
 },
 "nbformat": 4,
 "nbformat_minor": 1
}

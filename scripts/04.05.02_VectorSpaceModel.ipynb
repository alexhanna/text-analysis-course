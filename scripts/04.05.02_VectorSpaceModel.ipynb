{
 "cells": [
  {
   "cell_type": "markdown",
   "metadata": {},
   "source": [
    "# Vector Space Model\n",
    "\n",
    "Adapted from [this](https://de.dariah.eu/tatom/working_with_text.html) blog post, written by [Allen Riddell](http://www.ariddell.org/).\n",
    "\n",
    "One of the benefits of the DTM is that it allows us to think about text within the bounds of geometry, which then allows us to think about the \"distance\" between texts. Today's tutorial will explore how we might use distance measures in our text analysis workflow, and toward what end.\n",
    "\n",
    "### Learning Goals\n",
    "* Gain an intuition about how we might think about, and measure, the distance between texts\n",
    "* Learn how to measure distances using `scikit-learn`\n",
    "* Learn how to visualize distances in a few ways, and how that might help us in our text analysis project\n",
    "* Learn more about the flexibilities and range of tools in `scikit-learn`\n",
    "\n",
    "### Outline\n",
    "\n",
    "<ol start=\"0\">\n",
    "  <li>Vectorizing our text: The Sparse DTM to Numpy Array</li>\n",
    "  <li>Comparing Texts</li>\n",
    "  <li>Visualizing Distance</li>\n",
    "  <li>Clustering Text based on Distance Metrics</li>\n",
    "  <li>K-Means Clustering</li>\n",
    "</ol>\n",
    "\n",
    "### Key Terms\n",
    "\n",
    "* Euclidean Distance\n",
    "    * In mathematics, the Euclidean distance or Euclidean metric is the \"ordinary\" (i.e. straight-line) distance between two points in Euclidean space. With this distance, Euclidean space becomes a metric space.\n",
    "* Cosine Similarity\n",
    "    * Cosine similarity is a measure of similarity between two non-zero vectors of an inner product space that measures the cosine of the angle between them. The cosine of 0° is 1, and it is less than 1 for any other angle.\n",
    "* Multidimensional Scaling\n",
    "    * Multidimensional scaling (MDS) is a means of visualizing the level of similarity of individual cases of a dataset. It refers to a set of related ordination techniques used in information visualization, in particular to display the information contained in a distance matrix.\n",
    "* Dendrogram\n",
    "    * A dendrogram (from Greek dendro \"tree\" and gramma \"drawing\") is a tree diagram frequently used to illustrate the arrangement of the clusters produced by hierarchical clustering.\n",
    "* K-Means Clustering\n",
    "    * k-means clustering aims to partition n observations into k clusters in which each observation belongs to the cluster with the nearest mean, serving as a prototype of the cluster.\n",
    "\n",
    "\n",
    "### 0. From DTM to Numpy Array\n",
    "\n",
    "First, let's create our DTM, and then turn it from a sparse matrix to a regular (dense) array.\n",
    "\n",
    "We'll use a different input option than we have, an option called `filename`."
   ]
  },
  {
   "cell_type": "code",
   "execution_count": 1,
   "metadata": {
    "collapsed": false
   },
   "outputs": [
    {
     "data": {
      "text/plain": [
       "<4x12811 sparse matrix of type '<class 'numpy.int64'>'\n",
       "\twith 20245 stored elements in Compressed Sparse Row format>"
      ]
     },
     "execution_count": 1,
     "metadata": {},
     "output_type": "execute_result"
    }
   ],
   "source": [
    "import numpy as np \n",
    "from sklearn.feature_extraction.text import CountVectorizer\n",
    "\n",
    "filenames = ['../data/Alcott_GarlandForGirls.txt',\n",
    "            '../data/Austen_PrideAndPrejudice.txt',\n",
    "            '../data/Machiavelli_ThePrince.txt',\n",
    "            '../data/Marx_CommunistManifesto.txt']\n",
    "\n",
    "vectorizer = CountVectorizer(input='filename', encoding='utf-8',stop_words='english') #filname input, which bypases reading in files\n",
    "dtm = vectorizer.fit_transform(filenames)  # a sparse matrix\n",
    "vocab = vectorizer.get_feature_names()  # a list\n",
    "dtm"
   ]
  },
  {
   "cell_type": "code",
   "execution_count": 2,
   "metadata": {
    "collapsed": false
   },
   "outputs": [
    {
     "data": {
      "text/plain": [
       "array([[1, 0, 0, ..., 0, 1, 0],\n",
       "       [0, 0, 0, ..., 0, 0, 0],\n",
       "       [1, 3, 1, ..., 1, 1, 0],\n",
       "       [1, 1, 0, ..., 0, 1, 1]], dtype=int64)"
      ]
     },
     "execution_count": 2,
     "metadata": {},
     "output_type": "execute_result"
    }
   ],
   "source": [
    "dtm = dtm.toarray()  # convert to a regular, dense array\n",
    "vocab = np.array(vocab)\n",
    "dtm"
   ]
  },
  {
   "cell_type": "markdown",
   "metadata": {},
   "source": [
    "### 1. Comparing texts\n",
    "Arranging our texts in a document-term matrix make available a range of exploratory procedures. For example, calculating a measure of similarity between texts becomes simple. Since each row of the document-term matrix is a sequence of a novel’s word frequencies, it is possible to put mathematical notions of similarity (or distance) between sequences of numbers in service of calculating the similarity (or distance) between any two novels. One frequently used measure of distance between vectors (a measure easily converted into a measure of similarity) is Euclidean distance. The Euclidean distance between two vectors in the plane should be familiar from geometry, as it is the length of the hypotenuse that joins the two vectors. For instance, consider the Euclidean distance between the vectors  \\begin{align}\n",
    "\\overrightarrow{x}=(1,3) \\space \\space and\\space\\space\\overrightarrow{y}=(4,2)  \\end{align}\n",
    "\n",
    "the Euclidian distance can be calculated as follows:\n",
    "\\begin{align}\n",
    "\\sqrt{(1-4)^2 + (3-2)^2} = \\sqrt{10}\n",
    "\\end{align}\n",
    "\n",
    ">Note\n",
    "Measures of distance can be converted into measures of similarity. If your measures of distance are all between zero and one, then a measure of similarity could be one minus the distance. (The inverse of the distance would also serve as a measure of similarity.)\n",
    "\n",
    "\n",
    "Distance between two vectors:\n",
    "\n",
    "![alt text](https://de.dariah.eu/tatom/_images/tikz-af04f26d9e919ae68f473524fd99b7d0276afe7d.png)\n",
    "\n",
    "\n",
    "\n",
    ">Note\n",
    "More generally, given two vectors \\begin{align} \\overrightarrow{x} \\space \\space and\\space\\space\\overrightarrow{y}\\end{align} \n",
    "\n",
    ">in *p*-dimensional space, the Euclidean distance between the two vectors is given by\n",
    "\n",
    ">\\begin{align}\n",
    "||\\overrightarrow{x} −\\overrightarrow{y}||=\\sqrt{\\sum_{i=1}^P (x_i−y_i)^2}\n",
    "\\end{align}\n",
    "\n",
    "This concept of distance is not restricted to two dimensions. For example, it is not difficult to imagine the figure above translated into three dimensions. We can also persuade ourselves that the measure of distance extends to an arbitrary number of dimensions; for any two matched components in a pair of vectors (such as x<sub>2</sub> and y<sub>2</sub>), differences increase the distance.\n",
    "\n",
    "Since two novels in our corpus now have an expression as vectors, we can calculate the Euclidean distance between them. We can do this by hand or we can avail ourselves of the `scikit-learn` function `euclidean_distances`.\n",
    "\n",
    "A challenge for you: calculate Euclidean distance of sample texts by hand.\n"
   ]
  },
  {
   "cell_type": "code",
   "execution_count": 3,
   "metadata": {
    "collapsed": false
   },
   "outputs": [
    {
     "name": "stdout",
     "output_type": "stream",
     "text": [
      "../data/Austen_PrideAndPrejudice.txt\n",
      "../data/Machiavelli_ThePrince.txt\n",
      "\n",
      "Distance between Austen and Machiavelli:\n",
      "1870.8802741\n",
      "\n",
      "Distance between Austen and Machiavelli is greater than the distance between Austen and Alcott:\n"
     ]
    },
    {
     "data": {
      "text/plain": [
       "True"
      ]
     },
     "execution_count": 3,
     "metadata": {},
     "output_type": "execute_result"
    }
   ],
   "source": [
    "from sklearn.metrics.pairwise import euclidean_distances\n",
    "euc_dist = euclidean_distances(dtm)\n",
    "print(filenames[1])\n",
    "print(filenames[2])\n",
    "print(\"\\nDistance between Austen and Machiavelli:\")\n",
    "# the distance between Austen and Machiavelli\n",
    "print(euc_dist[1, 2])\n",
    "\n",
    "# which is greater than the distance between *Austen* and *Alcott* (index 0)\n",
    "print(\"\\nDistance between Austen and Machiavelli is greater than the distance between Austen and Alcott:\")\n",
    "euc_dist[1, 2] > euc_dist[0, 1]"
   ]
  },
  {
   "cell_type": "markdown",
   "metadata": {},
   "source": [
    "And if we want to use a measure of distance that takes into consideration the length of the novels (an excellent idea), we can calculate the cosine similarity by importing `sklearn.metrics.pairwise.cosine_similarity` and use it in place of `euclidean_distances`.\n",
    "\n",
    "Cosine similarity measure the angle between two vectors:\n",
    "\n",
    "![alt text](https://engineering.aweber.com/wp-content/uploads/2013/02/4AUbj.png)\n",
    "\n",
    "Question: How does length factor into these two equations?\n",
    "\n",
    "Keep in mind that cosine similarity is a measure of similarity (rather than distance) that ranges between 0 and 1 (as it is the cosine of the angle between the two vectors). In order to get a measure of distance (or dissimilarity), we need to “flip” the measure so that a larger angle receives a larger value. The distance measure derived from cosine similarity is therefore one minus the cosine similarity between two vectors."
   ]
  },
  {
   "cell_type": "code",
   "execution_count": 5,
   "metadata": {
    "collapsed": false
   },
   "outputs": [
    {
     "data": {
      "text/plain": [
       "array([[ 0.  ,  0.46,  0.6 ,  0.77],\n",
       "       [ 0.46,  0.  ,  0.69,  0.9 ],\n",
       "       [ 0.6 ,  0.69,  0.  ,  0.7 ],\n",
       "       [ 0.77,  0.9 ,  0.7 ,  0.  ]])"
      ]
     },
     "execution_count": 5,
     "metadata": {},
     "output_type": "execute_result"
    }
   ],
   "source": [
    "from sklearn.metrics.pairwise import cosine_similarity\n",
    "\n",
    "cos_dist = 1 - cosine_similarity(dtm)\n",
    "\n",
    "np.round(cos_dist, 2)"
   ]
  },
  {
   "cell_type": "code",
   "execution_count": 6,
   "metadata": {
    "collapsed": false
   },
   "outputs": [
    {
     "name": "stdout",
     "output_type": "stream",
     "text": [
      "0.694784908173\n"
     ]
    },
    {
     "data": {
      "text/plain": [
       "True"
      ]
     },
     "execution_count": 6,
     "metadata": {},
     "output_type": "execute_result"
    }
   ],
   "source": [
    "##EX: \n",
    "## 1. Print the cosine distance between Austen and Machiavelli\n",
    "## 2. Is this distance greater or less than the distance between Austen and Alcott?\n",
    "\n",
    "print(cos_dist[1, 2])\n",
    "\n",
    "# which is greater than the distance between *Austen* and\n",
    "# *Alcott* (index 0)\n",
    "cos_dist[1, 2] > cos_dist[1, 0]"
   ]
  },
  {
   "cell_type": "markdown",
   "metadata": {},
   "source": [
    "### 2. Visualizing distances\n",
    "It is often desirable to visualize the pairwise distances between our texts. A general approach to visualizing distances is to assign a point in a plane to each text, making sure that the distance between points is proportional to the pairwise distances we calculated. This kind of visualization is common enough that it has a name, “multidimensional scaling” (MDS) and family of functions in `scikit-learn`."
   ]
  },
  {
   "cell_type": "code",
   "execution_count": 7,
   "metadata": {
    "collapsed": false
   },
   "outputs": [
    {
     "data": {
      "image/png": "[encoded data removed]",
      "text/plain": [
       "<matplotlib.figure.Figure at 0x7f516de93198>"
      ]
     },
     "metadata": {},
     "output_type": "display_data"
    }
   ],
   "source": [
    "import os  # for os.path.basename\n",
    "import matplotlib.pyplot as plt\n",
    "from sklearn.manifold import MDS\n",
    "\n",
    "# two components as we're plotting points in a two-dimensional plane\n",
    "# \"precomputed\" because we provide a distance matrix\n",
    "# we will also specify `random_state` so the plot is reproducible.\n",
    "\n",
    "mds = MDS(n_components=2, dissimilarity=\"precomputed\", random_state=1)\n",
    "\n",
    "pos = mds.fit_transform(euc_dist)  # shape (n_components, n_samples)\n",
    "xs, ys = pos[:, 0], pos[:, 1]\n",
    "\n",
    "# short versions of filenames:\n",
    "# convert 'data/austen-brontë/Austen_Emma.txt' to 'Austen_Emma'\n",
    "names = [os.path.basename(fn).replace('.txt', '') for fn in filenames]\n",
    "\n",
    "\n",
    "for x, y, name in zip(xs, ys, names):\n",
    "    plt.scatter(x, y)\n",
    "    plt.text(x, y, name)\n",
    "\n",
    "plt.show()"
   ]
  },
  {
   "cell_type": "markdown",
   "metadata": {},
   "source": [
    "### 3. Clustering texts based on distance\n",
    "Clustering texts into discrete groups of similar texts is often a useful exploratory step. For example, a researcher may be wondering if certain textual features partition a collection of texts by author or by genre. Pairwise distances alone do not produce any kind of classification. To put a set of distance measurements to work in classification requires additional assumptions, such as a definition of a group or cluster.\n",
    "\n",
    "The ideas underlying the transition from distances to clusters are, for the most part, common sense. Any clustering of texts should result in texts that are closer to each other (in the distance matrix) residing in the same cluster. There are many ways of satisfying this requirement; there no unique clustering based on distances that is the “best”. One strategy for clustering in circulation is called Ward’s method. Rather than producing a single clustering, Ward’s method produces a hierarchy of clusterings, as we will see in a moment. All that Ward’s method requires is a set of pairwise distance measurements–such as those we calculated a moment ago. Ward’s method produces a hierarchical clustering of texts via the following procedure:\n",
    "\n",
    "1. Start with each text in its own cluster\n",
    "2. Until only a single cluster remains,\n",
    "    * Find the closest clusters and merge them. The distance between two clusters is the change in the sum of squared distances when they are merged.\n",
    "3. Return a tree containing a record of cluster-merges.\n",
    "\n",
    "The function [scipy.cluster.hierarchy.ward](https://docs.scipy.org/doc/scipy/reference/cluster.hierarchy.html) performs this algorithm and returns a tree of cluster-merges. The hierarchy of clusters can be visualized using `scipy.cluster.hierarchy.dendrogram`.\n",
    "\n"
   ]
  },
  {
   "cell_type": "code",
   "execution_count": 8,
   "metadata": {
    "collapsed": false
   },
   "outputs": [
    {
     "data": {
      "image/png": "[encoded data removed]",
      "text/plain": [
       "<matplotlib.figure.Figure at 0x7f516e6336d8>"
      ]
     },
     "metadata": {},
     "output_type": "display_data"
    }
   ],
   "source": [
    "from scipy.cluster.hierarchy import ward, dendrogram\n",
    "linkage_matrix = ward(euc_dist)\n",
    "\n",
    "dendrogram(linkage_matrix, orientation=\"right\", labels=names)\n",
    "\n",
    "plt.tight_layout()  # fixes margins\n",
    "\n",
    "plt.show()"
   ]
  },
  {
   "cell_type": "markdown",
   "metadata": {},
   "source": [
    "### 4. K-Means Clustering\n",
    "\n",
    "In the reading today the author clusters whaling routs into 9 clusters. From the dendrogram above, we might expect these four novels to have two clusters: Austen and Alcott, and Machiavelli and Marx.\n",
    "\n",
    "Let's see if this is the case using k-means clustering, which clusters on Euclidean distance."
   ]
  },
  {
   "cell_type": "code",
   "execution_count": 9,
   "metadata": {
    "collapsed": false
   },
   "outputs": [
    {
     "data": {
      "text/plain": [
       "array([0, 1, 0, 0], dtype=int32)"
      ]
     },
     "execution_count": 9,
     "metadata": {},
     "output_type": "execute_result"
    }
   ],
   "source": [
    "from sklearn.cluster import KMeans\n",
    "\n",
    "km = KMeans(n_clusters=2, random_state=0)\n",
    "\n",
    "clusters = km.fit(dtm)\n",
    "clusters.labels_"
   ]
  },
  {
   "cell_type": "code",
   "execution_count": 10,
   "metadata": {
    "collapsed": false
   },
   "outputs": [
    {
     "data": {
      "text/plain": [
       "[('../data/Alcott_GarlandForGirls.txt', 0),\n",
       " ('../data/Austen_PrideAndPrejudice.txt', 1),\n",
       " ('../data/Machiavelli_ThePrince.txt', 0),\n",
       " ('../data/Marx_CommunistManifesto.txt', 0)]"
      ]
     },
     "execution_count": 10,
     "metadata": {},
     "output_type": "execute_result"
    }
   ],
   "source": [
    "list(zip(filenames, clusters.labels_))"
   ]
  },
  {
   "cell_type": "code",
   "execution_count": 11,
   "metadata": {
    "collapsed": false
   },
   "outputs": [
    {
     "name": "stdout",
     "output_type": "stream",
     "text": [
      "Top terms per cluster:\n",
      "Cluster 0:\n",
      " little\n",
      " said\n",
      " gutenberg\n",
      " work\n",
      " old\n",
      " project\n",
      " good\n",
      " time\n",
      " like\n",
      " prince\n",
      " great\n",
      " people\n",
      " men\n",
      " did\n",
      " new\n",
      " way\n",
      " tm\n",
      " things\n",
      " make\n",
      " away\n",
      "\n",
      "Cluster 1:\n",
      " mr\n",
      " elizabeth\n",
      " darcy\n",
      " said\n",
      " mrs\n",
      " bennet\n",
      " bingley\n",
      " jane\n",
      " miss\n",
      " did\n",
      " know\n",
      " sister\n",
      " soon\n",
      " think\n",
      " time\n",
      " good\n",
      " wickham\n",
      " lady\n",
      " little\n",
      " collins\n",
      "\n"
     ]
    }
   ],
   "source": [
    "print(\"Top terms per cluster:\")\n",
    "order_centroids = clusters.cluster_centers_.argsort()[:, ::-1]\n",
    "terms = vectorizer.get_feature_names()\n",
    "for i in range(2):\n",
    "    print(\"Cluster %d:\" % i,)\n",
    "    for ind in order_centroids[i, :20]:\n",
    "        print(' %s' % terms[ind],)\n",
    "    print()"
   ]
  },
  {
   "cell_type": "markdown",
   "metadata": {},
   "source": [
    "### Exercise:\n",
    "\n",
    "1. Find the Euclidian distance and cosine distance for the 5 sentences below. Do the distance measures make sense?\n",
    "2. Visualize the potential clusters using a dendrogram. Do the clusters make sense?\n",
    "3. How might we make the clusters better?"
   ]
  },
  {
   "cell_type": "code",
   "execution_count": 13,
   "metadata": {
    "collapsed": false
   },
   "outputs": [],
   "source": [
    "text0 = 'I like to eat broccoli and bananas.'\n",
    "text1 = 'I ate a banana and spinach smoothie for breakfast.'\n",
    "text2 = 'Chinchillas and kittens are cute.'\n",
    "text3 = 'My sister adopted a kitten yesterday.'\n",
    "text4 = 'Look at this cute hamster munching on a piece of broccoli.'\n",
    "\n",
    "text_list = [text0, text1, text2, text3, text4]\n",
    "#create vector for text \"names\"\n",
    "names = ['eat', 'smoothie', 'chinchillas', 'adopted', 'munching']"
   ]
  },
  {
   "cell_type": "code",
   "execution_count": 14,
   "metadata": {
    "collapsed": false
   },
   "outputs": [
    {
     "data": {
      "text/plain": [
       "array([[0, 0, 0, 1, 0, 1, 0, 0, 1, 0, 0, 0, 1, 0, 0, 0, 0, 0, 0, 0],\n",
       "       [0, 1, 1, 0, 1, 0, 0, 0, 0, 0, 0, 0, 0, 0, 0, 0, 0, 1, 1, 0],\n",
       "       [0, 0, 0, 0, 0, 0, 1, 1, 0, 0, 0, 1, 0, 0, 0, 0, 0, 0, 0, 0],\n",
       "       [1, 0, 0, 0, 0, 0, 0, 0, 0, 0, 1, 0, 0, 0, 0, 0, 1, 0, 0, 1],\n",
       "       [0, 0, 0, 0, 0, 1, 0, 1, 0, 1, 0, 0, 0, 1, 1, 1, 0, 0, 0, 0]], dtype=int64)"
      ]
     },
     "execution_count": 14,
     "metadata": {},
     "output_type": "execute_result"
    }
   ],
   "source": [
    "#solution\n",
    "ex_vectorizer = CountVectorizer(stop_words='english')\n",
    "ex_dtm = ex_vectorizer.fit_transform(text_list)  # a sparse matrix\n",
    "vocab = ex_vectorizer.get_feature_names()  # a list\n",
    "ex_dtm = ex_dtm.toarray()\n",
    "ex_dtm"
   ]
  },
  {
   "cell_type": "code",
   "execution_count": 15,
   "metadata": {
    "collapsed": false
   },
   "outputs": [
    {
     "name": "stdout",
     "output_type": "stream",
     "text": [
      "I like to eat broccoli and bananas.\n",
      "I ate a banana and spinach smoothie for breakfast.\n",
      "Chinchillas and kittens are cute.\n",
      "2.64575131106\n"
     ]
    },
    {
     "data": {
      "text/plain": [
       "False"
      ]
     },
     "execution_count": 15,
     "metadata": {},
     "output_type": "execute_result"
    }
   ],
   "source": [
    "ex_euc_dist = euclidean_distances(ex_dtm)\n",
    "print(text_list[0])\n",
    "print(text_list[1])\n",
    "print(text_list[2])\n",
    "print(ex_euc_dist[0, 2])\n",
    "\n",
    "ex_euc_dist[0, 2] > ex_euc_dist[0, 1]"
   ]
  },
  {
   "cell_type": "code",
   "execution_count": 16,
   "metadata": {
    "collapsed": false
   },
   "outputs": [
    {
     "name": "stdout",
     "output_type": "stream",
     "text": [
      "[[ 0.    1.    1.    1.    0.8 ]\n",
      " [ 1.    0.    1.    1.    1.  ]\n",
      " [ 1.    1.   -0.    1.    0.76]\n",
      " [ 1.    1.    1.    0.    1.  ]\n",
      " [ 0.8   1.    0.76  1.   -0.  ]]\n",
      "1.0\n"
     ]
    },
    {
     "data": {
      "text/plain": [
       "False"
      ]
     },
     "execution_count": 16,
     "metadata": {},
     "output_type": "execute_result"
    }
   ],
   "source": [
    "ex_cos_dist = 1 - cosine_similarity(ex_dtm)\n",
    "\n",
    "print(np.round(ex_cos_dist, 2))\n",
    "\n",
    "print(ex_cos_dist[0,2])\n",
    "\n",
    "ex_cos_dist[0,2] > ex_cos_dist[0,1]"
   ]
  },
  {
   "cell_type": "code",
   "execution_count": 18,
   "metadata": {
    "collapsed": false
   },
   "outputs": [
    {
     "data": {
      "image/png": "[encoded data removed]",
      "text/plain": [
       "<matplotlib.figure.Figure at 0x7f516de162e8>"
      ]
     },
     "metadata": {},
     "output_type": "display_data"
    }
   ],
   "source": [
    "linkage_matrix = ward(ex_euc_dist)\n",
    "\n",
    "dendrogram(linkage_matrix, orientation=\"right\", labels=names)\n",
    "\n",
    "plt.tight_layout()  # fixes margins\n",
    "\n",
    "plt.show()"
   ]
  },
  {
   "cell_type": "code",
   "execution_count": 19,
   "metadata": {
    "collapsed": false
   },
   "outputs": [
    {
     "data": {
      "text/plain": [
       "['I like to eat broccoli and banana',\n",
       " 'I ate a banana and spinach smoothi for breakfast',\n",
       " 'Chinchilla and kitten are cute',\n",
       " 'My sister adopt a kitten yesterday',\n",
       " 'Look at thi cute hamster munch on a piec of broccoli']"
      ]
     },
     "execution_count": 19,
     "metadata": {},
     "output_type": "execute_result"
    }
   ],
   "source": [
    "from nltk.stem.porter import PorterStemmer\n",
    "import re\n",
    "\n",
    "porter_stemmer = PorterStemmer()\n",
    "\n",
    "#remove punctuation\n",
    "text_list = [re.sub(\"[,.]\", \"\", sentence) for sentence in text_list]\n",
    "#stem words\n",
    "text_list_stemmed = [' '.join([porter_stemmer.stem(word) for word in sentence.split(\" \")]) for sentence in text_list]\n",
    "text_list_stemmed"
   ]
  },
  {
   "cell_type": "code",
   "execution_count": 20,
   "metadata": {
    "collapsed": true
   },
   "outputs": [],
   "source": [
    "dtm_stem = ex_vectorizer.fit_transform(text_list_stemmed)"
   ]
  },
  {
   "cell_type": "code",
   "execution_count": null,
   "metadata": {
    "collapsed": true
   },
   "outputs": [],
   "source": []
  },
  {
   "cell_type": "code",
   "execution_count": 21,
   "metadata": {
    "collapsed": false
   },
   "outputs": [
    {
     "name": "stdout",
     "output_type": "stream",
     "text": [
      "[[ 0.    0.78  1.    1.    0.81]\n",
      " [ 0.78  0.    1.    1.    1.  ]\n",
      " [ 1.    1.   -0.    0.71  0.78]\n",
      " [ 1.    1.    0.71  0.    1.  ]\n",
      " [ 0.81  1.    0.78  1.    0.  ]]\n",
      "1.0\n",
      "0.77639320225\n"
     ]
    },
    {
     "data": {
      "text/plain": [
       "True"
      ]
     },
     "execution_count": 21,
     "metadata": {},
     "output_type": "execute_result"
    }
   ],
   "source": [
    "ex_dist = 1 - cosine_similarity(dtm_stem)\n",
    "\n",
    "print(np.round(ex_dist, 2))\n",
    "\n",
    "print(ex_dist[0,2])\n",
    "print(ex_dist[0,1])\n",
    "\n",
    "ex_dist[0,2] > ex_dist[0,1]"
   ]
  },
  {
   "cell_type": "code",
   "execution_count": 22,
   "metadata": {
    "collapsed": false
   },
   "outputs": [
    {
     "data": {
      "image/png": "[encoded data removed]",
      "text/plain": [
       "<matplotlib.figure.Figure at 0x7f516dcb5630>"
      ]
     },
     "metadata": {},
     "output_type": "display_data"
    }
   ],
   "source": [
    "linkage_matrix = ward(ex_dist)\n",
    "\n",
    "dendrogram(linkage_matrix, orientation=\"right\", labels=names)\n",
    "\n",
    "plt.tight_layout()  # fixes margins\n",
    "\n",
    "plt.show()"
   ]
  },
  {
   "cell_type": "code",
   "execution_count": 23,
   "metadata": {
    "collapsed": false
   },
   "outputs": [
    {
     "name": "stdout",
     "output_type": "stream",
     "text": [
      "I like to eat broccoli and bananas\n",
      "I ate a banana and spinach smoothie for breakfast\n",
      "Chinchillas and kittens are cute\n",
      "My sister adopted a kitten yesterday\n",
      "Look at this cute hamster munching on a piece of broccoli\n"
     ]
    }
   ],
   "source": [
    "print(text_list[0])\n",
    "print(text_list[1])\n",
    "print(text_list[2])\n",
    "print(text_list[3])\n",
    "print(text_list[4])"
   ]
  }
 ],
 "metadata": {
  "kernelspec": {
   "display_name": "Python 3",
   "language": "python",
   "name": "python3"
  },
  "language_info": {
   "codemirror_mode": {
    "name": "ipython",
    "version": 3
   },
   "file_extension": ".py",
   "mimetype": "text/x-python",
   "name": "python",
   "nbconvert_exporter": "python",
   "pygments_lexer": "ipython3",
   "version": "3.5.2"
  }
 },
 "nbformat": 4,
 "nbformat_minor": 2
}

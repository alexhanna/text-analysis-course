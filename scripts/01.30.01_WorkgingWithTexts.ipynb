{
 "cells": [
  {
   "cell_type": "markdown",
   "metadata": {},
   "source": [
    "# Working with Texts in Python\n",
    "Adapted from a lesson by Teddy Roland\n",
    "\n",
    "With only the tools we learned in the last class we can do a good amount of text analysis. No special libraries or functions, just counting. \n",
    "\n",
    "### Lesson Goals\n",
    "* Get comfortable reading a text into Python and manipulating it\n",
    "* Apply Wednesday's lesson and do simple counts on a text\n",
    "* Start building more comfort with the Python programming language\n",
    "\n",
    "### Outline\n",
    "* On your own, use the tools we have already learned to answer a few questions about two novels\n",
    "* In small groups, compare your solutions and discuss any differences\n",
    "* Discuss in the larger group\n",
    "\n",
    "## Exploratory Natural Language Processing Tasks\n",
    "\n",
    "Now that we have some of Python's basics in our toolkit, we can immediately perform the kinds of tasks that are the bread and butter of text analysis: counting. When we first meet a text in the wild, we often wish to find out a little about it before digging in deeply, so we start with simple questions like \"How many words are in this text?\" or \"What is the average word length?\""
   ]
  },
  {
   "cell_type": "markdown",
   "metadata": {
    "collapsed": true
   },
   "source": [
    "Run the cell below to read in the text of \"Pride and Prejudice\" and assign it to the variable \"austen_string\", and read in the text of Louisa May Alcott's \"A Garland for Girls,\" a children's book, and assign it to the variable \"aclott_string\". With these variables, print the answer to the following questions:\n",
    "\n",
    "1. How many words are in each novel?\n",
    "2. How many words in each novel appear in title case?\n",
    "3. What is the approximate average word length in each novel? (don't worry about punctuation for now)\n",
    "4. How many words longer than 7 characters are in each novel? (don't worry about punctuation for now)\n",
    "5. What proportion of the total words are the long words in each novel?"
   ]
  },
  {
   "cell_type": "code",
   "execution_count": 6,
   "metadata": {
    "collapsed": false
   },
   "outputs": [
    {
     "name": "stdout",
     "output_type": "stream",
     "text": [
      "PRIDE AND PREJUDICE:\n",
      "\n",
      "A NOVEL.\n",
      "\n",
      "IN THREE VOLUMES.\n",
      "\n",
      "BY THE AUTHOR OF \"SENSE AND SENSIBILITY.\"\n",
      "\n",
      "VOL. I\n",
      "\n",
      "A GARLAND FOR GIRLS\n",
      "\n",
      "By Louisa May Alcott\n",
      "\n",
      "\n",
      "\n",
      "TO R.A. LAWRENCE\n",
      "\n",
      "THIS LITTLE BOOK IS AFFECTIONATELY I\n"
     ]
    }
   ],
   "source": [
    "#read in the texts\n",
    "austen_string = open('../data/Austen_PrideAndPrejudice.txt', encoding='utf-8').read()\n",
    "alcott_string = open('../data/Alcott_GarlandForGirls.txt', encoding='utf-8').read()\n",
    "\n",
    "#print the first 100 characters of each text to make sure everything is in order\n",
    "print(austen_string[:100])\n",
    "print(alcott_string[:100])"
   ]
  },
  {
   "cell_type": "code",
   "execution_count": null,
   "metadata": {
    "collapsed": true
   },
   "outputs": [],
   "source": []
  }
 ],
 "metadata": {
  "kernelspec": {
   "display_name": "Python 3",
   "language": "python",
   "name": "python3"
  },
  "language_info": {
   "codemirror_mode": {
    "name": "ipython",
    "version": 3
   },
   "file_extension": ".py",
   "mimetype": "text/x-python",
   "name": "python",
   "nbconvert_exporter": "python",
   "pygments_lexer": "ipython3",
   "version": "3.5.2"
  }
 },
 "nbformat": 4,
 "nbformat_minor": 2
}

{
 "cells": [
  {
   "cell_type": "markdown",
   "metadata": {},
   "source": [
    "## Additional Exercises for 03.01: Weighted Dictionary\n",
    "* Do the additional exercises **without** copying and pasting code from lecture notebook."
   ]
  },
  {
   "cell_type": "code",
   "execution_count": 2,
   "metadata": {
    "collapsed": false
   },
   "outputs": [
    {
     "name": "stdout",
     "output_type": "stream",
     "text": [
      "               Word  Bigram  Conc.M  Conc.SD  Unknown  Total  Percent_known  \\\n",
      "0                 a       0    1.46     1.14        2     30           0.93   \n",
      "1        a cappella       1    2.92     1.44        3     29           0.90   \n",
      "2          aardvark       0    4.68     0.86        0     28           1.00   \n",
      "3             aback       0    1.65     1.07        4     27           0.85   \n",
      "4            abacus       0    4.52     1.12        2     29           0.93   \n",
      "5           abandon       0    2.54     1.45        1     27           0.96   \n",
      "6         abandoned       0    2.52     1.27        0     29           1.00   \n",
      "7         abandonee       0    2.92     1.28        4     28           0.86   \n",
      "8         abandoner       0    2.50     1.50        2     30           0.93   \n",
      "9       abandonment       0    2.54     1.29        0     28           1.00   \n",
      "10        abasement       0    1.67     1.01        2     26           0.92   \n",
      "11        abatement       0    1.92     1.29        4     30           0.87   \n",
      "12       abbreviate       0    2.59     1.53        0     27           1.00   \n",
      "13      abbreviated       0    3.10     1.54        0     30           1.00   \n",
      "14     abbreviation       0    3.07     1.51        0     29           1.00   \n",
      "15         abdicate       0    2.08     1.29        2     28           0.93   \n",
      "16          abdomen       0    4.70     0.67        0     27           1.00   \n",
      "17        abdominal       0    4.28     1.16        0     29           1.00   \n",
      "18      abdominally       0    3.15     1.46        3     30           0.90   \n",
      "19           abduct       0    2.88     1.51        2     28           0.93   \n",
      "20         abductee       0    3.27     1.44        0     30           1.00   \n",
      "21        abduction       0    3.07     1.47        0     27           1.00   \n",
      "22         abductor       0    3.89     1.37        0     28           1.00   \n",
      "23            abhor       0    1.81     1.17        3     29           0.90   \n",
      "24       abhorrence       0    2.15     1.26        1     28           0.96   \n",
      "25      abhorrently       0    2.04     1.32        2     29           0.93   \n",
      "26        abhorring       0    1.68     0.80        4     29           0.86   \n",
      "27            abide       0    1.68     0.86        0     28           1.00   \n",
      "28          abiding       0    2.07     1.13        0     29           1.00   \n",
      "29        abidingly       0    1.82     0.94        2     30           0.93   \n",
      "...             ...     ...     ...      ...      ...    ...            ...   \n",
      "39924     zinfandel       0    4.23     1.15        4     26           0.85   \n",
      "39925          zing       0    1.23     0.43        4     26           0.85   \n",
      "39926        zinger       0    2.20     1.22        3     28           0.89   \n",
      "39927           zip       0    3.50     1.45        1     29           0.97   \n",
      "39928      ZIP code       1    3.77     1.59        0     30           1.00   \n",
      "39929       zipfile       0    4.00     1.28        1     29           0.97   \n",
      "39930        zipper       0    4.83     0.54        0     29           1.00   \n",
      "39931      zippered       0    4.12     1.09        2     27           0.93   \n",
      "39932       zipping       0    3.38     1.60        0     26           1.00   \n",
      "39933         zippy       0    2.39     1.42        0     28           1.00   \n",
      "39934          zips       0    3.67     1.17        1     25           0.96   \n",
      "39935     zirconium       0    4.27     1.19        3     29           0.90   \n",
      "39936           zit       0    4.85     0.60        1     28           0.96   \n",
      "39937        zodiac       0    3.07     1.78        0     28           1.00   \n",
      "39938      zodiacal       0    2.17     1.50        4     27           0.85   \n",
      "39939        zombie       0    4.16     1.14        1     26           0.96   \n",
      "39940          zone       0    3.07     1.58        0     29           1.00   \n",
      "39941         zoned       0    2.77     1.45        0     26           1.00   \n",
      "39942        zoning       0    2.45     1.53        0     29           1.00   \n",
      "39943           zoo       0    4.81     0.40        0     27           1.00   \n",
      "39944     zookeeper       0    4.71     0.53        0     28           1.00   \n",
      "39945    zoological       0    2.40     1.40        0     30           1.00   \n",
      "39946  zoologically       0    2.33     1.43        0     24           1.00   \n",
      "39947     zoologist       0    4.30     1.02        0     30           1.00   \n",
      "39948       zoology       0    3.37     1.55        0     27           1.00   \n",
      "39949          zoom       0    3.10     1.49        0     30           1.00   \n",
      "39950       zoom in       1    3.57     1.40        0     28           1.00   \n",
      "39951     zoom lens       1    4.81     0.49        1     27           0.96   \n",
      "39952     zoophobia       0    2.04     1.02        2     25           0.92   \n",
      "39953      zucchini       0    4.87     0.57        0     30           1.00   \n",
      "\n",
      "       SUBTLEX    Dom_Pos  \n",
      "0      1041179    Article  \n",
      "1            0    Err:512  \n",
      "2           21       Noun  \n",
      "3           15     Adverb  \n",
      "4           12       Noun  \n",
      "5          413       Verb  \n",
      "6          678       Verb  \n",
      "7            0    Err:512  \n",
      "8            1       Noun  \n",
      "9           49       Noun  \n",
      "10           0    Err:512  \n",
      "11           3       Noun  \n",
      "12           1       Verb  \n",
      "13          16  Adjective  \n",
      "14          12       Noun  \n",
      "15           9       Verb  \n",
      "16         171       Noun  \n",
      "17         174  Adjective  \n",
      "18           0    Err:512  \n",
      "19          36       Verb  \n",
      "20          20    Err:512  \n",
      "21         185       Noun  \n",
      "22          18       Noun  \n",
      "23          12       Verb  \n",
      "24           0    Err:512  \n",
      "25           0    Err:512  \n",
      "26           0    Err:512  \n",
      "27         138       Verb  \n",
      "28          25  Adjective  \n",
      "29           0    Err:512  \n",
      "...        ...        ...  \n",
      "39924        3       Noun  \n",
      "39925       60       Verb  \n",
      "39926       11       Noun  \n",
      "39927      389       Verb  \n",
      "39928        0    Err:512  \n",
      "39929        0    Err:512  \n",
      "39930      144       Noun  \n",
      "39931        3       Verb  \n",
      "39932       22       Verb  \n",
      "39933       19  Adjective  \n",
      "39934       17       Verb  \n",
      "39935        2       Noun  \n",
      "39936       52       Noun  \n",
      "39937       31       Noun  \n",
      "39938        2  Adjective  \n",
      "39939      184       Noun  \n",
      "39940     1026       Noun  \n",
      "39941       18       Verb  \n",
      "39942       61       Noun  \n",
      "39943      696       Noun  \n",
      "39944        1       Noun  \n",
      "39945        8  Adjective  \n",
      "39946        0    Err:512  \n",
      "39947       12       Noun  \n",
      "39948       17       Noun  \n",
      "39949      181       Verb  \n",
      "39950        0    Err:512  \n",
      "39951        0    Err:512  \n",
      "39952        0    Err:512  \n",
      "39953       49       Noun  \n",
      "\n",
      "[39954 rows x 9 columns]\n"
     ]
    }
   ],
   "source": [
    "import pandas\n",
    "from sklearn.feature_extraction.text import CountVectorizer\n",
    "\n",
    "con_score = pandas.read_csv('Concreteness_ratings_Brysbaert_et_al.csv')\n",
    "print(con_score)"
   ]
  },
  {
   "cell_type": "markdown",
   "metadata": {},
   "source": [
    "## Question 1\n",
    "* open the **Machiavelli_ThePrince.txt** and **Marx_CommunistManifesto.txt**.\n",
    "* make a data frame that contains both of them."
   ]
  },
  {
   "cell_type": "markdown",
   "metadata": {},
   "source": [
    "## Question 2\n",
    "* take a subset of the DTM, keeping only the intersection between the words in our corpus and the word in the dictionary.\n",
    "* tanspose and rename the column\n",
    "* finally merge our data frame with con_score data frame\n",
    "\n"
   ]
  },
  {
   "cell_type": "markdown",
   "metadata": {},
   "source": [
    "## Question 3\n",
    "* Calculate and print the **average concreteness score** for each text.\n",
    "* What is the magnitude of the difference?"
   ]
  },
  {
   "cell_type": "code",
   "execution_count": null,
   "metadata": {
    "collapsed": true
   },
   "outputs": [],
   "source": []
  }
 ],
 "metadata": {
  "kernelspec": {
   "display_name": "Python 3",
   "language": "python",
   "name": "python3"
  },
  "language_info": {
   "codemirror_mode": {
    "name": "ipython",
    "version": 3
   },
   "file_extension": ".py",
   "mimetype": "text/x-python",
   "name": "python",
   "nbconvert_exporter": "python",
   "pygments_lexer": "ipython3",
   "version": "3.6.0"
  }
 },
 "nbformat": 4,
 "nbformat_minor": 2
}

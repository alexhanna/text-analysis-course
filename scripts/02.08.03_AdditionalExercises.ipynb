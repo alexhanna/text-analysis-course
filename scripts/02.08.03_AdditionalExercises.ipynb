{
 "cells": [
  {
   "cell_type": "markdown",
   "metadata": {},
   "source": [
    "## Additional Exercises for 02.08: Information Extraction\n",
    "Ex1: \n",
    "1. What is the ratio of persons mentioned to total words in two novels in our data folder? \n",
    "2. The ratio of organizations mentioned to words?\n",
    "\n",
    "Ex2: \n",
    "1. What is the ratio of persons mentioned to the total number of named entities in the two novels? \n",
    "2. The ratio of organizations mentioned to the total number of named entities?"
   ]
  }
 ],
 "metadata": {
  "kernelspec": {
   "display_name": "Python 3",
   "language": "python",
   "name": "python3"
  },
  "language_info": {
   "codemirror_mode": {
    "name": "ipython",
    "version": 3
   },
   "file_extension": ".py",
   "mimetype": "text/x-python",
   "name": "python",
   "nbconvert_exporter": "python",
   "pygments_lexer": "ipython3",
   "version": "3.5.2"
  }
 },
 "nbformat": 4,
 "nbformat_minor": 2
}

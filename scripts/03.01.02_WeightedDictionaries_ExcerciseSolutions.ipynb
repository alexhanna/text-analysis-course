{
 "cells": [
  {
   "cell_type": "markdown",
   "metadata": {},
   "source": [
    "# Exercise solutions for Weighted Dictionaries Tutorial\n",
    "\n",
    "First reproduce what we did."
   ]
  },
  {
   "cell_type": "code",
   "execution_count": null,
   "metadata": {
    "collapsed": false
   },
   "outputs": [],
   "source": [
    "import pandas\n",
    "from sklearn.feature_extraction.text import CountVectorizer\n",
    "\n",
    "con_score = pandas.read_csv('../data/Concreteness_ratings_Brysbaert_et_al.csv')\n",
    "text_list = []\n",
    "#open and read the novels, save them as variables\n",
    "austen_string = open('../data/Austen_PrideAndPrejudice.txt', encoding='utf-8').read()\n",
    "alcott_string = open('../data/Alcott_GarlandForGirls.txt', encoding='utf-8').read()\n",
    "\n",
    "#append each novel to the list\n",
    "text_list.append(austen_string)\n",
    "text_list.append(alcott_string)\n",
    "\n",
    "countvec = CountVectorizer(stop_words=\"english\")\n",
    "\n",
    "novels_df = pandas.DataFrame(countvec.fit_transform(text_list).toarray(), columns=countvec.get_feature_names())\n",
    "\n",
    "columns=list(novels_df)\n",
    "columns_con = [word for word in columns if word in list(con_score['Word'])]\n",
    "\n",
    "novels_df_con = novels_df[columns_con]\n",
    "\n",
    "df = novels_df_con.transpose()\n",
    "\n",
    "df.rename(columns={0: 'Austen', 1: 'Alcott'}, inplace=True)\n",
    "\n",
    "df.index.names = ['Word']\n",
    "df.reset_index(inplace=True)\n",
    "\n",
    "#merge with our dictionary dataframe, called 'con_score'\n",
    "df = df.merge(con_score, on = 'Word')\n",
    "df['austen_con_score'] = df['Austen'] * df['Conc.M']\n",
    "df['alcott_con_score'] = df['Alcott'] * df['Conc.M']"
   ]
  },
  {
   "cell_type": "markdown",
   "metadata": {},
   "source": [
    "### EX1: Calculating the Average Concreteness Score\n",
    "\n",
    "Exercise: Calculate and print the average concreteness score for each text. Careful! Think through this before you implement it."
   ]
  },
  {
   "cell_type": "code",
   "execution_count": null,
   "metadata": {
    "collapsed": false
   },
   "outputs": [],
   "source": [
    "#code here\n",
    "#we'll devide the sum of the concreteness score by the total word count for each novel\n",
    "print(\"Mean Concreteness for Austen's 'Pride and Prejudice'\")\n",
    "print(df['austen_con_score'].sum()/df['Austen'].sum())\n",
    "print()\n",
    "print(\"Mean Concreteness for Alcott's 'A Garland for Girls'\")\n",
    "print(df['alcott_con_score'].sum()/df['Alcott'].sum())"
   ]
  },
  {
   "cell_type": "markdown",
   "metadata": {},
   "source": [
    "### EX2: Print the most concrete and abstract terms in Austen and in Alcott.\n",
    "HINT: You can't simply sort on the column 'austen_con_score' and so on. Why not? What are your next steps."
   ]
  },
  {
   "cell_type": "code",
   "execution_count": null,
   "metadata": {
    "collapsed": false,
    "scrolled": true
   },
   "outputs": [],
   "source": [
    "#Create a new dataframe that keeps only words that have a non-zero value in Alcott\n",
    "df_alcott = df[df['Alcott']>0]\n",
    "#Sort on 'Conc.M' and pring in descending order for most concrete words\n",
    "df_alcott[['Word', 'Conc.M']].sort_values(by='Conc.M', ascending = False)"
   ]
  },
  {
   "cell_type": "code",
   "execution_count": null,
   "metadata": {
    "collapsed": false,
    "scrolled": true
   },
   "outputs": [],
   "source": [
    "#Print ascending order for most abstract words\n",
    "df_alcott[['Word', 'Conc.M']].sort_values(by='Conc.M', ascending = True)"
   ]
  },
  {
   "cell_type": "code",
   "execution_count": null,
   "metadata": {
    "collapsed": false,
    "scrolled": true
   },
   "outputs": [],
   "source": [
    "#Create a new dataframe that keeps only words that have a non-zero value in Austen\n",
    "df_austen = df[df['Austen']>0]\n",
    "df_austen[['Word', 'Conc.M']].sort_values(by='Conc.M', ascending = False)"
   ]
  },
  {
   "cell_type": "code",
   "execution_count": null,
   "metadata": {
    "collapsed": false,
    "scrolled": true
   },
   "outputs": [],
   "source": [
    "df_austen[['Word', 'Conc.M']].sort_values(by='Conc.M', ascending = True)"
   ]
  }
 ],
 "metadata": {
  "kernelspec": {
   "display_name": "Python 3",
   "language": "python",
   "name": "python3"
  },
  "language_info": {
   "codemirror_mode": {
    "name": "ipython",
    "version": 3
   },
   "file_extension": ".py",
   "mimetype": "text/x-python",
   "name": "python",
   "nbconvert_exporter": "python",
   "pygments_lexer": "ipython3",
   "version": "3.5.2"
  }
 },
 "nbformat": 4,
 "nbformat_minor": 2
}

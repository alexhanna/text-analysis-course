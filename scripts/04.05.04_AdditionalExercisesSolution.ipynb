{
 "cells": [
  {
   "cell_type": "markdown",
   "metadata": {},
   "source": [
    "# Additional Exercises Solution\n",
    "\n",
    "\n",
    "### 0. Reading in and pre-processing data"
   ]
  },
  {
   "cell_type": "code",
   "execution_count": 35,
   "metadata": {
    "collapsed": false
   },
   "outputs": [],
   "source": [
    "#first, import the necessary modules\n",
    "import numpy as np \n",
    "from sklearn.feature_extraction.text import CountVectorizer\n",
    "from sklearn.metrics.pairwise import euclidean_distances\n",
    "from sklearn.metrics.pairwise import cosine_similarity\n",
    "from scipy.cluster.hierarchy import ward, dendrogram\n",
    "\n",
    "import os  # for os.path.basename\n",
    "import matplotlib.pyplot as plt\n",
    "from sklearn.manifold import MDS"
   ]
  },
  {
   "cell_type": "markdown",
   "metadata": {},
   "source": [
    "## Exercises\n",
    "1. Indentify the differences btw these strings. Can you group by eyes them without using sklearn?\n",
    "2. Find the Euclidian distance for the 5 texts below.\n",
    "3. Find cosine distance for the 5 texts below.\n",
    "4. Visualize the potential clusters using a dendrogram.\n",
    "5. Also visualize it using mds"
   ]
  },
  {
   "cell_type": "code",
   "execution_count": 67,
   "metadata": {
    "collapsed": false
   },
   "outputs": [],
   "source": [
    "text0 = \"\"\"Shall I compare thee to a summer’s day?\\\n",
    "Thou art more lovely and more temperate:\\\n",
    "Rough winds do shake the darling buds of May,\\\n",
    "And summer’s lease hath all too short a date:\\\n",
    "Sometime too hot the eye of heaven shines,\\\n",
    "And often is his gold complexion dimm’d;\\\n",
    "And every fair from fair sometime declines,\\\n",
    "By chance or nature’s changing course untrimm’d;\"\"\"\n",
    "\n",
    "\n",
    "text1 = \"\"\"But thy eternal summer shall not fade\\\n",
    "Nor lose possession of that fair thou owest;\\\n",
    "Nor shall Death brag thou wander’st in his shade,\\\n",
    "When in eternal lines to time thou growest:\\\n",
    "So long as men can breathe or eyes can see,\\\n",
    "So long lives this and this gives life to thee.\"\"\"\n",
    "\n",
    "\n",
    "text2 = \"\"\"The Dursleys had everything they wanted,\\\n",
    "but they also had a secret, and their greatest fear was that somebody would discover it.\\\n",
    "They didn't think they could bear it if anyone found out about the Potters.\\\n",
    "Mrs. Potter was Mrs. Dursley's sister, but they hadn't met for several years;\\\n",
    "\"\"\"\n",
    "\n",
    "\n",
    "text3 = \"\"\"in fact, Mrs. Dursley pretended she didn't have a sister, because her\\\n",
    "sister and her good-for-nothing husband were as unDursleyish as it was possible to be.\\\n",
    "The Dursleys shuddered to think what the neighbors would say if the Potters arrived in the street.\\\n",
    "The Dursleys knew that the Potters had a small son, too, but they had never even seen him.\\\n",
    "This boy was another good reason for keeping the Potters away;\\\n",
    "they didn't want Dudley mixing with a child like that.\"\"\"\n",
    "\n",
    "text4 = \"\"\"Nicolo Machiavelli was born at Florence on 3rd May 1469. \\\n",
    "He was the second son of Bernardo di Nicolo Machiavelli, \\\n",
    "a lawyer of some repute, and of Bartolommea di Stefano Nelli, his wife.\\\n",
    "Both parents were members of the old Florentine nobility.\\\n",
    "His life falls naturally into three periods, each of which singularly enough constitutes \\\n",
    "a distinct and important era in the history of Florence. His youth was concurrent with the greatness \\\n",
    "of Florence as an Italian power under the guidance of Lorenzo de' Medici, Il Magnifico. \\\n",
    "The downfall of the Medici in Florence occurred in 1494, in which year Machiavelli entered the public service.\\\n",
    "During his official career Florence was free under the government of a Republic, which lasted until 1512,\\\n",
    "when the Medici returned to power, and Machiavelli lost his office. \\\n",
    "The Medici again ruled Florence from 1512 until 1527, when they were once more driven out.\\\n",
    "This was the period of Machiavelli's literary activity and increasing influence; \\\n",
    "but he died, within a few weeks of the expulsion of the Medici,\\\n",
    "on 22nd June 1527, in his fifty-eighth year, without having regained office.\"\"\"\n",
    "\n"
   ]
  },
  {
   "cell_type": "code",
   "execution_count": 68,
   "metadata": {
    "collapsed": false
   },
   "outputs": [],
   "source": [
    "text_list = [text0, text1, text2, text3, text4]\n",
    "#create vector for text \"names\"\n",
    "text_list = [text0, text1, text2, text3, text4]\n",
    "names_text = ['poem1', 'poem2', 'hp1', 'hp2', 'random']\n",
    "\n",
    "vectorizer = CountVectorizer(encoding='utf-8',stop_words='english') #filname input, which bypases reading in files\n",
    "dtm = vectorizer.fit_transform(text_list)  # a sparse matrix\n",
    "vocab = vectorizer.get_feature_names()  # a list\n",
    "dtm = dtm.toarray()  # convert to a regular, dense array\n",
    "vocab = np.array(vocab)"
   ]
  },
  {
   "cell_type": "code",
   "execution_count": 69,
   "metadata": {
    "collapsed": false
   },
   "outputs": [
    {
     "data": {
      "text/plain": [
       "True"
      ]
     },
     "execution_count": 69,
     "metadata": {},
     "output_type": "execute_result"
    }
   ],
   "source": [
    "euc_dist_str = euclidean_distances(dtm)\n",
    "euc_dist_str[0,4] > euc_dist_str[2,3]"
   ]
  },
  {
   "cell_type": "code",
   "execution_count": 70,
   "metadata": {
    "collapsed": false
   },
   "outputs": [
    {
     "data": {
      "text/plain": [
       "True"
      ]
     },
     "execution_count": 70,
     "metadata": {},
     "output_type": "execute_result"
    }
   ],
   "source": [
    "cos_dist_str = 1 - cosine_similarity(dtm)\n",
    "cos_dist_str[0,4] > cos_dist_str[2,3]"
   ]
  },
  {
   "cell_type": "code",
   "execution_count": 71,
   "metadata": {
    "collapsed": false
   },
   "outputs": [
    {
     "data": {
      "image/png": "[encoded data removed]",
      "text/plain": [
       "<matplotlib.figure.Figure at 0x113d0b5f8>"
      ]
     },
     "metadata": {},
     "output_type": "display_data"
    }
   ],
   "source": [
    "mds = MDS(n_components=2, dissimilarity=\"precomputed\", random_state=1)\n",
    "\n",
    "pos = mds.fit_transform(euc_dist_str)  # shape (n_components, n_samples)\n",
    "xs, ys = pos[:, 0], pos[:, 1]\n",
    "\n",
    "# short versions of filenames:\n",
    "# convert 'data/austen-brontë/Austen_Emma.txt' to 'Austen_Emma'\n",
    "\n",
    "text_name = names_text\n",
    "\n",
    "for x, y, name in zip(xs, ys, text_name):\n",
    "    plt.scatter(x, y)\n",
    "    plt.text(x, y, name)\n",
    "\n",
    "plt.show()"
   ]
  },
  {
   "cell_type": "code",
   "execution_count": 72,
   "metadata": {
    "collapsed": false
   },
   "outputs": [
    {
     "data": {
      "image/png": "[encoded data removed]",
      "text/plain": [
       "<matplotlib.figure.Figure at 0x11458a0b8>"
      ]
     },
     "metadata": {},
     "output_type": "display_data"
    }
   ],
   "source": [
    "\n",
    "linkage_matrix = ward(euc_dist_str)\n",
    "\n",
    "dendrogram(linkage_matrix, orientation=\"right\", labels=names_text)\n",
    "\n",
    "plt.tight_layout()  # fixes margins\n",
    "\n",
    "plt.show()"
   ]
  },
  {
   "cell_type": "code",
   "execution_count": null,
   "metadata": {
    "collapsed": true
   },
   "outputs": [],
   "source": []
  },
  {
   "cell_type": "code",
   "execution_count": null,
   "metadata": {
    "collapsed": true
   },
   "outputs": [],
   "source": []
  },
  {
   "cell_type": "code",
   "execution_count": null,
   "metadata": {
    "collapsed": true
   },
   "outputs": [],
   "source": []
  }
 ],
 "metadata": {
  "kernelspec": {
   "display_name": "Python 3",
   "language": "python",
   "name": "python3"
  },
  "language_info": {
   "codemirror_mode": {
    "name": "ipython",
    "version": 3
   },
   "file_extension": ".py",
   "mimetype": "text/x-python",
   "name": "python",
   "nbconvert_exporter": "python",
   "pygments_lexer": "ipython3",
   "version": "3.6.0"
  }
 },
 "nbformat": 4,
 "nbformat_minor": 2
}

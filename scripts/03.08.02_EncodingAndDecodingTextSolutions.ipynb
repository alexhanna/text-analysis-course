{
 "cells": [
  {
   "cell_type": "markdown",
   "metadata": {},
   "source": [
    "## Encoding and Decoding when working with Text\n",
    "### Written by Leon Liang\n",
    "\n",
    "The way computers interpret texts is different than the way we interpret texts. For us, we can simply read the text as it is and be able to recognize what it means. However, computers do things a little differently. Instead of storing the actual \"letters\", \"numbers\", or any kind of data, everything all real world data are represented by *bits*, 0's and 1's.\n",
    "\n",
    "Now the way a \"number\" is represented in a computer's memory is as a binary number, a number expressed as a combination of 0's and 1's.\n",
    "\n",
    "For example:\n",
    "![](../images/binary_number_system.png)\n",
    "\n",
    "But binary numbers can become too long, so we can shorten binary numbers by converting them to hexidecimals using the table below. Starting from the right, every 4 binaries will be converted to 1 hexidecimal.\n",
    "\n",
    "![](../images/hexadecimal-number-chart.jpg)\n",
    "\n",
    "For the example above, the equivalent hexidecimal to the binary number `11101110` is `EE`.\n",
    "\n",
    "Thus, `119` = `11101110` = `EE` using the systems described above.\n",
    "\n",
    "In a computer, 8 binary numbers = 1 byte\n",
    "\n",
    "### Encoding and Decoding\n",
    "\n",
    "There are numerous ways to convert \"letters\" to *bits*, called **encoding**. Different computers have different encoding methods due to difference in operating system, languages, etc.\n",
    "\n",
    "In the past, [American Standard Code for Information Interchange](http://www.asciitable.com) (ASCII) was the standard character encoding across computers. But the number of ways to encoding a character using the ASCII table is very limited. If you clicked on the link, you'll see that there are only 256 character encodings. This means that we would have no way of converting words that are in other languages into *bits*. This is many more character encoding systems have be developed based off of the ASCII character encoding system to be able to encoding more characters. The one character encoding system we use in this class is `UTF-8`, which can handle many more characters. \n",
    "\n",
    "**Encoding** basically takes in a string and converted each of the characters, using some kind of encoding system, into computer data, 0's and 1's. 8 binary numbers is equivalent to a byte (computer memory).\n",
    "\n",
    "**Decoding** is basically the reverse of encoding. Decoding takes in computer data, 0's and 1's, and convert it to text that we are able to intrepet. When decoding, we must specify a character encoding system in order to decoding computer data correctly. Otherwise, we may get garbage text that we cannot understand (example below).\n",
    "\n",
    "Basically, imagine you want to pass a note to your classmate, but you don't want to have other people know what you're reading. You develop some kind of encoding system where each \"letter\" maps to some number, and you pass this encoding letter to your friend. But in order for your friend to decode the letter, you must also tell him or her what kind of encoding system you used. This may sound very inefficient if we were to do it, but it is very efficient for a computer.\n",
    "\n",
    "$$\\text{text} \\xrightarrow{\\text{encoding}} \\text{computer data}$$\n",
    "\n",
    "$$\\text{text} \\xleftarrow{\\text{decoding}} \\text{computer data}$$\n",
    "\n",
    "More details and examples if you're interested: http://kunststube.net/encoding/"
   ]
  },
  {
   "cell_type": "markdown",
   "metadata": {},
   "source": [
    "### 1. Encoding\n",
    "\n",
    "Let's try to encode some text using the ASCII character encoding system first and see how limited it is."
   ]
  },
  {
   "cell_type": "code",
   "execution_count": null,
   "metadata": {
    "collapsed": false
   },
   "outputs": [],
   "source": [
    "string = 'Hello World!'\n",
    "string_encoded_ASCII = string.encode('ASCII')\n",
    "string_encoded_ASCII"
   ]
  },
  {
   "cell_type": "markdown",
   "metadata": {},
   "source": [
    "You can see that if we try to encode a string, the output is the same string except with a b in front. The b means that the thing following it is a bytes type. You don't really have to understand the concept of bytes types for this lecture.\n",
    "\n",
    "Now let's try to encoding something other than standard English character using ASCII."
   ]
  },
  {
   "cell_type": "code",
   "execution_count": null,
   "metadata": {
    "collapsed": false
   },
   "outputs": [],
   "source": [
    "string2 = 'première'\n",
    "string2.encode('ASCII')"
   ]
  },
  {
   "cell_type": "markdown",
   "metadata": {},
   "source": [
    "You should get an error from the code above. This is because characters like \"è\" doesn't exist in the ASCII character encoding system. This is why ASCII is very limited.\n",
    "\n",
    "Try again with some text that's in a totally different language, like Spanish, Chinese, German, etc.，with characters that are not in standard 26 alphabets letters. You should get the same error."
   ]
  },
  {
   "cell_type": "code",
   "execution_count": null,
   "metadata": {
    "collapsed": false
   },
   "outputs": [],
   "source": [
    "# Exercise:\n",
    "string3 = '你好' # <- fill me in\n",
    "string3.encode('ASCII')"
   ]
  },
  {
   "cell_type": "markdown",
   "metadata": {},
   "source": [
    "Now let's try using the `UTF-8` encoding system."
   ]
  },
  {
   "cell_type": "code",
   "execution_count": null,
   "metadata": {
    "collapsed": false
   },
   "outputs": [],
   "source": [
    "string = 'Hello World!'"
   ]
  },
  {
   "cell_type": "code",
   "execution_count": null,
   "metadata": {
    "collapsed": false
   },
   "outputs": [],
   "source": [
    "string_encoded = string.encode('UTF-8')\n",
    "string_encoded"
   ]
  },
  {
   "cell_type": "code",
   "execution_count": null,
   "metadata": {
    "collapsed": false
   },
   "outputs": [],
   "source": [
    "type(string_encoded)"
   ]
  },
  {
   "cell_type": "code",
   "execution_count": null,
   "metadata": {
    "collapsed": false
   },
   "outputs": [],
   "source": [
    "string2 = 'première'\n",
    "string2_encoded = string2.encode('UTF-8')\n",
    "string2_encoded"
   ]
  },
  {
   "cell_type": "markdown",
   "metadata": {},
   "source": [
    "Using `UTF-8` encoding system, you should see the standard English characters remain the same, but the special characters got converted to some alien characters in the form `\\x..`. The 2 characters in place of the `..` are actually hexidecimals, which if you recall from above, are equivalent to some form of binary numbers. Standard characters remain the same because of the ASCII character encoding system being the standard for computers in the past.\n",
    "\n",
    "Let's try to encode the foreign language text you had above using `UTF-8` and see what'd we get."
   ]
  },
  {
   "cell_type": "code",
   "execution_count": null,
   "metadata": {
    "collapsed": false,
    "scrolled": true
   },
   "outputs": [],
   "source": [
    "#Exercise\n",
    "string3_encoded = string3.encode('UTF-8') # <- fill me in\n",
    "string3_encoded"
   ]
  },
  {
   "cell_type": "markdown",
   "metadata": {},
   "source": [
    "Below is a function that converts the *bytes* to binary that we've seen in the example at the top."
   ]
  },
  {
   "cell_type": "code",
   "execution_count": null,
   "metadata": {
    "collapsed": false
   },
   "outputs": [],
   "source": [
    "def bytesToBinary(byte):\n",
    "    binary = []\n",
    "    for b in byte:\n",
    "        binary.append(\"{0:08b}\".format(b))\n",
    "    return binary\n",
    "\n",
    "binary = bytesToBinary(string_encoded)\n",
    "binary"
   ]
  },
  {
   "cell_type": "markdown",
   "metadata": {},
   "source": [
    "Above is a list of binary numbers that represents each character in `'Hello World!'`. Below is a better representation of the encoding."
   ]
  },
  {
   "cell_type": "code",
   "execution_count": null,
   "metadata": {
    "collapsed": false
   },
   "outputs": [],
   "source": [
    "import pandas as pd\n",
    "df = pd.DataFrame()\n",
    "df['string'] = list(string)\n",
    "df['binary'] = bytesToBinary(string_encoded)\n",
    "df['integer'] = [b for b in string_encoded]\n",
    "df['hexidecimal'] = [hex(int(b, 2))[2:] for b in binary]\n",
    "df"
   ]
  },
  {
   "cell_type": "markdown",
   "metadata": {},
   "source": [
    "### 2. Decoding\n",
    "\n",
    "Let's look at how to decoding some computer data."
   ]
  },
  {
   "cell_type": "code",
   "execution_count": null,
   "metadata": {
    "collapsed": false
   },
   "outputs": [],
   "source": [
    "print('Before decoding:', string2_encoded)\n",
    "\n",
    "string2_decoded = string2_encoded.decode('UTF-8')\n",
    "print('After decoding:' , string2_decoded)"
   ]
  },
  {
   "cell_type": "markdown",
   "metadata": {
    "collapsed": false
   },
   "source": [
    "As described above, decoding takes in some encoding system and converts all of the computer data, *bytes*, back into text that we can read and intrepret.\n",
    "\n",
    "Try decoding the foreign language text you encoded before."
   ]
  },
  {
   "cell_type": "code",
   "execution_count": null,
   "metadata": {
    "collapsed": false
   },
   "outputs": [],
   "source": [
    "#Exercise:\n",
    "print('Before decoding:', string3_encoded)\n",
    "\n",
    "string3_decoded = string3_encoded.decode('UTF-8') # <- fill me in\n",
    "print('After decoding:' , string3_decoded)"
   ]
  },
  {
   "cell_type": "markdown",
   "metadata": {},
   "source": [
    "Try decoding the computer data below and see what the original string is. Before you actually code, can you tell what the original string is just by looking at raw data?"
   ]
  },
  {
   "cell_type": "markdown",
   "metadata": {},
   "source": [
    "**Answer**: The original string is `Hello World!` based on the table generated above by comparing the hexidecimal."
   ]
  },
  {
   "cell_type": "code",
   "execution_count": null,
   "metadata": {
    "collapsed": false
   },
   "outputs": [],
   "source": [
    "#Exercise:\n",
    "computer_data = b'\\x48\\x65\\x6c\\x6c\\x6f\\x20\\x57\\x6f\\x72\\x6c\\x64\\x21'\n",
    "computer_data_decoded = computer_data.decode('UTF-8')\n",
    "computer_data_decoded"
   ]
  },
  {
   "cell_type": "markdown",
   "metadata": {},
   "source": [
    "### 3. Encoding and Decoding Text\n",
    "\n",
    "Examples and problems below mirrors [this](http://kunststube.net/encoding/) in the \"Misconceptions, Confusions And Problems\" section.\n",
    "\n",
    "At the beginning of the semester, we warned you to not open any text file using Microsoft Word. This is because Word, by default, uses the default encoding system that your operating system uses to decode a text. This is means that if your operating system using an encoding system that is different from actual encoding system that the text file was encoded in, then you'll get some weird garbage text that makes no sense.\n",
    "\n",
    "By default, Microsoft Word will use the defaul encoding system that your operating system uses. On Mac OS, the default encoding system is `mac-roman`. On windows, the default encoding system is `Latin-1`.\n",
    "\n",
    "Here is an example. Let's say you accidently opened up a text file using Word, and Word converted whatever you had originally to the string below. Let's try to fix this in Python.\n",
    "\n"
   ]
  },
  {
   "cell_type": "code",
   "execution_count": null,
   "metadata": {
    "collapsed": false
   },
   "outputs": [],
   "source": [
    "string_corrupted = 'ÉGÉìÉRÅ[ÉfÉBÉìÉOÇÕìÔÇµÇ≠Ç»Ç¢'"
   ]
  },
  {
   "cell_type": "markdown",
   "metadata": {},
   "source": [
    "Let's assume we opened this text file using Word on Mac OS. That means that whatever the original text contained, it probably got converted into the corrupted string above using the `mac-roman` encoding system. Thus, we must first reverse the encoding process."
   ]
  },
  {
   "cell_type": "code",
   "execution_count": null,
   "metadata": {
    "collapsed": false
   },
   "outputs": [],
   "source": [
    "string_corrupted_encoded = string_corrupted.encode('mac-roman')\n",
    "string_corrupted_encoded"
   ]
  },
  {
   "cell_type": "markdown",
   "metadata": {},
   "source": [
    "We converted corrupted string encoded back into computer data using `mac-roman`. Now we have to figure out what the original encoding system was in order to decode this computer data back into the original. Let's try `UTF-8`."
   ]
  },
  {
   "cell_type": "code",
   "execution_count": null,
   "metadata": {
    "collapsed": false
   },
   "outputs": [],
   "source": [
    "string_corrupted_encoded.decode('UTF-8')"
   ]
  },
  {
   "cell_type": "markdown",
   "metadata": {},
   "source": [
    "But notice how we're getting an error that is similar to that of when we tried to encode and decode some foreign text using ASCII. This pretty much means that the `UTF-8` encoding system isn't the right encoding scheme to use.\n",
    "\n",
    "The original text is actually \"エンコーディングは難しくない\" encoded in Japanese Shift-JIS encoding. Without tell you this, there would've been no way you could've retrieved the original text. But now that we know, can we retrieve the original text?"
   ]
  },
  {
   "cell_type": "code",
   "execution_count": null,
   "metadata": {
    "collapsed": false
   },
   "outputs": [],
   "source": [
    "print('Corrupted string:', string_corrupted, '\\n')\n",
    "original = string_corrupted_encoded.decode('Shift-JIS')\n",
    "print('Original sentence:', original)"
   ]
  },
  {
   "cell_type": "markdown",
   "metadata": {},
   "source": [
    "What went wrong here exactly? What happend was your text file was originally encoded with `Shift-JIS`. But since you tried to open it with Microsoft word, it by default tried to use the `mac-roman` encoding system to decode your text file. This resulted in the corrupted string we see above. \n",
    "\n",
    "In order to get back the original string, we must work backwards. We must first encode our corrupted string using `mac-roman` encoding system back into computer data. Once we have the corrupted string in computer data, we can then decode this data using the correct encoding system, `Shift-JIS` to get back the original Japanese text."
   ]
  },
  {
   "cell_type": "markdown",
   "metadata": {},
   "source": [
    "### Exercises\n",
    "\n",
    "In the data folder, there are 3 files: `chinese_text.txt`, `chinese_text_mac.txt`, and `chinese_text_windows.txt`.\n",
    "The last two texts contains some corrupted characters because I opened `chinese_text.txt` using **Microsoft Word** in its corresponding operating system. If you try to open `chinese_text.txt` on your computer using the default encoding system for your operating system, you should get the corresponding corrupted test.\n",
    "\n",
    "Retrieve the original text.\n",
    "\n",
    "The original text was encoded using `UTF-8`."
   ]
  },
  {
   "cell_type": "code",
   "execution_count": null,
   "metadata": {
    "collapsed": true
   },
   "outputs": [],
   "source": [
    "original = open('../data/chinese_text.txt', encoding='utf-8').read() # Don't worry about the encoding part here.\n",
    "mac = open('../data/chinese_text_mac.txt', encoding='utf-8').read() # This is just to read in the exact test saved \n",
    "windows = open('../data/chinese_text_windows.txt', encoding='utf-8').read() # in the text file."
   ]
  },
  {
   "cell_type": "code",
   "execution_count": null,
   "metadata": {
    "collapsed": false
   },
   "outputs": [],
   "source": [
    "mac_original = mac.encode('mac-roman').decode('UTF-8')\n",
    "mac_original"
   ]
  },
  {
   "cell_type": "code",
   "execution_count": null,
   "metadata": {
    "collapsed": false
   },
   "outputs": [],
   "source": [
    "assert(original == mac_original)"
   ]
  },
  {
   "cell_type": "markdown",
   "metadata": {},
   "source": [
    "The above code makes sure that the `mac_original` you converted must equal to the original text. If you did everything right, nothing would happen. If you converted it wrong, an error will show up."
   ]
  },
  {
   "cell_type": "code",
   "execution_count": null,
   "metadata": {
    "collapsed": false
   },
   "outputs": [],
   "source": [
    "windows_original = windows.encode('latin1').decode('UTF-8')\n",
    "windows_original"
   ]
  },
  {
   "cell_type": "code",
   "execution_count": null,
   "metadata": {
    "collapsed": false
   },
   "outputs": [],
   "source": [
    "assert(original == windows_original)"
   ]
  }
 ],
 "metadata": {
  "anaconda-cloud": {},
  "kernelspec": {
   "display_name": "Python 3",
   "language": "python",
   "name": "python3"
  },
  "language_info": {
   "codemirror_mode": {
    "name": "ipython",
    "version": 3
   },
   "file_extension": ".py",
   "mimetype": "text/x-python",
   "name": "python",
   "nbconvert_exporter": "python",
   "pygments_lexer": "ipython3",
   "version": "3.5.2"
  }
 },
 "nbformat": 4,
 "nbformat_minor": 1
}

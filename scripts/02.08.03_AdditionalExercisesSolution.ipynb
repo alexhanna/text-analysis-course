{
 "cells": [
  {
   "cell_type": "markdown",
   "metadata": {},
   "source": [
    "## Additional Exercises for 02.08: Information Extraction\n",
    "Ex1: \n",
    "1. What is the ratio of persons mentioned to total words in two novels in our data folder? \n",
    "2. The ratio of organizations mentioned to words?\n",
    "\n",
    "Ex2: \n",
    "1. What is the ratio of persons mentioned to the total number of named entities in the two novels? \n",
    "2. The ratio of organizations mentioned to the total number of named entities?"
   ]
  },
  {
   "cell_type": "code",
   "execution_count": 2,
   "metadata": {
    "collapsed": false
   },
   "outputs": [],
   "source": [
    "import nltk\n",
    "from nltk import word_tokenize\n",
    "\n",
    "#open and read the novels, save them as variables\n",
    "austen_string = open('Austen_PrideAndPrejudice.txt', encoding='utf-8').read()\n",
    "alcott_string = open('Alcott_GarlandForGirls.txt', encoding='utf-8').read()"
   ]
  },
  {
   "cell_type": "markdown",
   "metadata": {},
   "source": [
    "# EX1"
   ]
  },
  {
   "cell_type": "code",
   "execution_count": 23,
   "metadata": {
    "collapsed": false
   },
   "outputs": [
    {
     "name": "stdout",
     "output_type": "stream",
     "text": [
      "Ratio of persons mentioned to total words is: 0.02128859733422471\n",
      "Ratio of orgs mentioned to total words is: 0.0025766375576261507\n"
     ]
    }
   ],
   "source": [
    "#tokenize our sentence\n",
    "austen_string_tokens = word_tokenize(austen_string)\n",
    "\n",
    "#tag each word with its part of speech\n",
    "austen_string_tagged_sentence_tokens = nltk.pos_tag(austen_string_tokens)\n",
    "\n",
    "#get the number of total words in novel.\n",
    "total_words_austen = len(austen_string_tagged_sentence_tokens)\n",
    "\n",
    "#use the named entity chunker to tag named entities\n",
    "chunked_austen = nltk.ne_chunk(austen_string_tagged_sentence_tokens)\n",
    "\n",
    "\n",
    "#create two lists of tree obj that contains people and orgs respectively. \n",
    "people_austen =  [n for n in chunked_austen.subtrees() if n.label()==\"PERSON\"]\n",
    "orgs_austen = [n for n in chunked_austen.subtrees() if n.label()==\"ORGANIZATION\"]\n",
    "\n",
    "#calculate the number of people and orgs in austen.\n",
    "num_people_austen = len(people_austen)\n",
    "num_orgs_austen = len(orgs_austen)\n",
    "\n",
    "#calculate the ratio for both people to word and orgs to words ratio.\n",
    "people_word_ratio = num_people_austen / total_words_austen\n",
    "orgs_word_ratio = num_orgs_austen / total_words_austen\n",
    "\n",
    "#answer\n",
    "print(\"Ratio of people mentioned to total words is: \" + str(people_word_ratio))\n",
    "print(\"Ratio of orgs mentioned to total words is: \" + str(orgs_word_ratio))"
   ]
  },
  {
   "cell_type": "code",
   "execution_count": 36,
   "metadata": {
    "collapsed": false
   },
   "outputs": [
    {
     "name": "stdout",
     "output_type": "stream",
     "text": [
      "Ratio of people mentioned to total words is: 0.01620921192130993\n",
      "Ratio of orgs mentioned to total words is: 0.0032983861467781837\n"
     ]
    }
   ],
   "source": [
    "#tokenize our sentence\n",
    "alcott_string_tokens = word_tokenize(alcott_string)\n",
    "\n",
    "#tag each word with its part of speech\n",
    "alcott_string_tagged_sentence_tokens = nltk.pos_tag(alcott_string_tokens)\n",
    "\n",
    "#get the number of total words in novel.\n",
    "total_words_alcott = len(alcott_string_tagged_sentence_tokens)\n",
    "\n",
    "#use the named entity chunker to tag named entities\n",
    "chunked_alcott = nltk.ne_chunk(alcott_string_tagged_sentence_tokens)\n",
    "\n",
    "#create two list of tree obj that contains people and orgs respectively. \n",
    "people_alcott =  [n for n in chunked_alcott.subtrees() if n.label()==\"PERSON\"]\n",
    "orgs_alcott = [n for n in chunked_alcott.subtrees() if n.label()==\"ORGANIZATION\"]\n",
    "\n",
    "#calculate the number of people and orgs in alcott.\n",
    "num_people_alcott = len(people_alcott)\n",
    "num_orgs_alcott = len(orgs_alcott)\n",
    "\n",
    "#calculate the ratio for both people to word and orgs to words ratio.\n",
    "people_word_ratio = num_people_alcott / total_words_alcott\n",
    "orgs_word_ratio = num_orgs_alcott / total_words_alcott\n",
    "\n",
    "#answer\n",
    "print(\"Ratio of people mentioned to total words is: \" + str(people_word_ratio))\n",
    "print(\"Ratio of orgs mentioned to total words is: \" + str(orgs_word_ratio))"
   ]
  },
  {
   "cell_type": "markdown",
   "metadata": {},
   "source": [
    "# EX2"
   ]
  },
  {
   "cell_type": "code",
   "execution_count": 27,
   "metadata": {
    "collapsed": false
   },
   "outputs": [
    {
     "name": "stdout",
     "output_type": "stream",
     "text": [
      "Ratio of people mentioned to number of name entites in austen is: 0.76425\n",
      "Ratio of orgs mentioned to number of name entites in austen is: 0.0925\n",
      "Ratio of people mentioned to number of name entites in alcott is: 0.7078189300411523\n",
      "Ratio of orgs mentioned to number of name entites in alcott is: 0.1440329218106996\n"
     ]
    }
   ],
   "source": [
    "#create a list of the most common name entities.\n",
    "list_label = [\"ORGANIZATION\", \"PERSON\", \"LOCATION\", \"DATE\", \"TIME\", \"MONEY\", \"PERCENT\", \"FACILITY\", \"GPE\"]\n",
    "#create two list of tree obj that has been labeled, each for one of the noval. \n",
    "ne_austen =  [n for n in chunked_austen.subtrees() if n.label() in list_label]\n",
    "ne_alcott = [n for n in chunked_alcott.subtrees() if n.label() in list_label]\n",
    "\n",
    "#calculate the ratio.\n",
    "people_ne_ratio_austen = num_people_austen / len(ne_austen)\n",
    "orgs_ne_ratio_austen = num_orgs_austen / len(ne_austen)\n",
    "people_ne_ratio_alcott = num_people_alcott / len(ne_alcott)\n",
    "orgs_ne_ratio_alcott = num_orgs_alcott / len(ne_alcott)\n",
    "\n",
    "#answer\n",
    "print(\"Ratio of people mentioned to number of name entites in austen is: \" + str(people_ne_ratio_austen))\n",
    "print(\"Ratio of orgs mentioned to number of name entites in austen is: \" + str(orgs_ne_ratio_austen))\n",
    "print(\"Ratio of people mentioned to number of name entites in alcott is: \" + str(people_ne_ratio_alcott))\n",
    "print(\"Ratio of orgs mentioned to number of name entites in alcott is: \" + str(orgs_ne_ratio_alcott))\n",
    "\n"
   ]
  },
  {
   "cell_type": "markdown",
   "metadata": {},
   "source": [
    "# Tree traversal (optional)"
   ]
  },
  {
   "cell_type": "code",
   "execution_count": 35,
   "metadata": {
    "collapsed": false
   },
   "outputs": [
    {
     "data": {
      "text/plain": [
       "['ORGANIZATION', 'PERSON', 'GPE', 'FACILITY', 'LOCATION', 'GSP']"
      ]
     },
     "execution_count": 35,
     "metadata": {},
     "output_type": "execute_result"
    }
   ],
   "source": [
    "from nltk.tree import Tree\n",
    "#below function traverse the tree and get the distinct name entities of a given string.\n",
    "#you can modify it to get the info you want from the tree. try it out.\n",
    "def get_ne(text):\n",
    "    chunked = nltk.ne_chunk(nltk.pos_tag(word_tokenize(text)))\n",
    "    continuous_chunk = []\n",
    "    current_chunk = []\n",
    "    for i in chunked:\n",
    "        if type(i) == Tree:\n",
    "            ne = \"\".join(i.label()) \n",
    "            if ne not in continuous_chunk and ne not in current_chunk:\n",
    "                current_chunk.append(ne)\n",
    "        elif current_chunk:\n",
    "            named_entity = \"\".join(current_chunk)\n",
    "            if named_entity not in continuous_chunk:\n",
    "                continuous_chunk.append(named_entity)\n",
    "                current_chunk = []\n",
    "            else:\n",
    "                continue\n",
    "    return continuous_chunk\n",
    "\n",
    "get_ne(austen_string)"
   ]
  },
  {
   "cell_type": "code",
   "execution_count": 33,
   "metadata": {
    "collapsed": false
   },
   "outputs": [
    {
     "data": {
      "text/plain": [
       "['ORGANIZATION', 'PERSON', 'GPE', 'GSP', 'FACILITY', 'LOCATION']"
      ]
     },
     "execution_count": 33,
     "metadata": {},
     "output_type": "execute_result"
    }
   ],
   "source": [
    "get_ne(alcott_string)"
   ]
  },
  {
   "cell_type": "code",
   "execution_count": null,
   "metadata": {
    "collapsed": true
   },
   "outputs": [],
   "source": []
  }
 ],
 "metadata": {
  "kernelspec": {
   "display_name": "Python 3",
   "language": "python",
   "name": "python3"
  },
  "language_info": {
   "codemirror_mode": {
    "name": "ipython",
    "version": 3
   },
   "file_extension": ".py",
   "mimetype": "text/x-python",
   "name": "python",
   "nbconvert_exporter": "python",
   "pygments_lexer": "ipython3",
   "version": "3.6.0"
  }
 },
 "nbformat": 4,
 "nbformat_minor": 2
}

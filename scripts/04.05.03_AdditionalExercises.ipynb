{
 "cells": [
  {
   "cell_type": "markdown",
   "metadata": {},
   "source": [
    "# Additional Exercises Solution\n",
    "\n",
    "\n",
    "###  Reading in and pre-processing data"
   ]
  },
  {
   "cell_type": "code",
   "execution_count": 5,
   "metadata": {
    "collapsed": false
   },
   "outputs": [],
   "source": [
    "#first, import the necessary modules\n",
    "import numpy as np \n",
    "from sklearn.feature_extraction.text import CountVectorizer\n",
    "from sklearn.metrics.pairwise import euclidean_distances\n",
    "from sklearn.metrics.pairwise import cosine_similarity\n",
    "from scipy.cluster.hierarchy import ward, dendrogram\n",
    "import os  # for os.path.basename\n",
    "import matplotlib.pyplot as plt\n",
    "from sklearn.manifold import MDS"
   ]
  },
  {
   "cell_type": "markdown",
   "metadata": {},
   "source": [
    "## Exercises\n",
    "1. Indentify the differences btw these strings. Can you group by eyes them without using sklearn?\n",
    "2. Find the Euclidian distance for the 5 texts below.\n",
    "3. Find cosine distance for the 5 texts below.\n",
    "4. Visualize the potential clusters using a dendrogram.\n",
    "5. Also visualize it using mds"
   ]
  },
  {
   "cell_type": "code",
   "execution_count": 6,
   "metadata": {
    "collapsed": false
   },
   "outputs": [],
   "source": [
    "text0 = \"\"\"Shall I compare thee to a summer’s day?\\\n",
    "Thou art more lovely and more temperate:\\\n",
    "Rough winds do shake the darling buds of May,\\\n",
    "And summer’s lease hath all too short a date:\\\n",
    "Sometime too hot the eye of heaven shines,\\\n",
    "And often is his gold complexion dimm’d;\\\n",
    "And every fair from fair sometime declines,\\\n",
    "By chance or nature’s changing course untrimm’d;\"\"\"\n",
    "\n",
    "\n",
    "text1 = \"\"\"But thy eternal summer shall not fade\\\n",
    "Nor lose possession of that fair thou owest;\\\n",
    "Nor shall Death brag thou wander’st in his shade,\\\n",
    "When in eternal lines to time thou growest:\\\n",
    "So long as men can breathe or eyes can see,\\\n",
    "So long lives this and this gives life to thee.\"\"\"\n",
    "\n",
    "\n",
    "text2 = \"\"\"The Dursleys had everything they wanted,\\\n",
    "but they also had a secret, and their greatest fear was that somebody would discover it.\\\n",
    "They didn't think they could bear it if anyone found out about the Potters.\\\n",
    "Mrs. Potter was Mrs. Dursley's sister, but they hadn't met for several years;\\\n",
    "\"\"\"\n",
    "\n",
    "\n",
    "text3 = \"\"\"in fact, Mrs. Dursley pretended she didn't have a sister, because her\\\n",
    "sister and her good-for-nothing husband were as unDursleyish as it was possible to be.\\\n",
    "The Dursleys shuddered to think what the neighbors would say if the Potters arrived in the street.\\\n",
    "The Dursleys knew that the Potters had a small son, too, but they had never even seen him.\\\n",
    "This boy was another good reason for keeping the Potters away;\\\n",
    "they didn't want Dudley mixing with a child like that.\"\"\"\n",
    "\n",
    "text4 = \"\"\"Nicolo Machiavelli was born at Florence on 3rd May 1469. \\\n",
    "He was the second son of Bernardo di Nicolo Machiavelli, \\\n",
    "a lawyer of some repute, and of Bartolommea di Stefano Nelli, his wife.\\\n",
    "Both parents were members of the old Florentine nobility.\\\n",
    "His life falls naturally into three periods, each of which singularly enough constitutes \\\n",
    "a distinct and important era in the history of Florence. His youth was concurrent with the greatness \\\n",
    "of Florence as an Italian power under the guidance of Lorenzo de' Medici, Il Magnifico. \\\n",
    "The downfall of the Medici in Florence occurred in 1494, in which year Machiavelli entered the public service.\\\n",
    "During his official career Florence was free under the government of a Republic, which lasted until 1512,\\\n",
    "when the Medici returned to power, and Machiavelli lost his office. \\\n",
    "The Medici again ruled Florence from 1512 until 1527, when they were once more driven out.\\\n",
    "This was the period of Machiavelli's literary activity and increasing influence; \\\n",
    "but he died, within a few weeks of the expulsion of the Medici,\\\n",
    "on 22nd June 1527, in his fifty-eighth year, without having regained office.\"\"\"\n",
    "\n"
   ]
  },
  {
   "cell_type": "code",
   "execution_count": 7,
   "metadata": {
    "collapsed": false
   },
   "outputs": [],
   "source": [
    "text_list = [text0, text1, text2, text3, text4]\n",
    "#create vector for text \"names\"\n",
    "text_list = [text0, text1, text2, text3, text4]\n",
    "names_text = ['poem1', 'poem2', 'hp1', 'hp2', 'random']\n"
   ]
  },
  {
   "cell_type": "code",
   "execution_count": 4,
   "metadata": {
    "collapsed": false
   },
   "outputs": [],
   "source": [
    "# Euclidian distance Here."
   ]
  },
  {
   "cell_type": "code",
   "execution_count": 3,
   "metadata": {
    "collapsed": false
   },
   "outputs": [],
   "source": [
    "# cosine distance Here."
   ]
  },
  {
   "cell_type": "code",
   "execution_count": 1,
   "metadata": {
    "collapsed": false
   },
   "outputs": [],
   "source": [
    "# mds"
   ]
  },
  {
   "cell_type": "code",
   "execution_count": 2,
   "metadata": {
    "collapsed": false
   },
   "outputs": [],
   "source": [
    "# dendrogram\n"
   ]
  }
 ],
 "metadata": {
  "kernelspec": {
   "display_name": "Python 3",
   "language": "python",
   "name": "python3"
  },
  "language_info": {
   "codemirror_mode": {
    "name": "ipython",
    "version": 3
   },
   "file_extension": ".py",
   "mimetype": "text/x-python",
   "name": "python",
   "nbconvert_exporter": "python",
   "pygments_lexer": "ipython3",
   "version": "3.6.0"
  }
 },
 "nbformat": 4,
 "nbformat_minor": 2
}

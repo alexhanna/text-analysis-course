{
 "cells": [
  {
   "cell_type": "markdown",
   "metadata": {},
   "source": [
    "## Dictionary Method: Exercise Solutions\n",
    "\n",
    "First I'll recreate what we did in the tutorial."
   ]
  },
  {
   "cell_type": "code",
   "execution_count": null,
   "metadata": {
    "collapsed": false
   },
   "outputs": [],
   "source": [
    "#import the necessary packages\n",
    "import pandas\n",
    "import nltk\n",
    "from nltk import word_tokenize\n",
    "import string\n",
    "\n",
    "#read the Music Reviews corpus into a Pandas dataframe\n",
    "df = pandas.read_csv(\"../data/BDHSI2016_music_reviews.csv\", encoding='utf-8', sep = '\\t')\n",
    "df['body'] = df['body'].apply(lambda x: ''.join([i for i in x if not i.isdigit()]))\n",
    "df['body_tokens'] = df['body'].str.lower()\n",
    "df['body_tokens'] = df['body_tokens'].apply(nltk.word_tokenize)\n",
    "df['body_tokens'] = df['body_tokens'].apply(lambda x: [word for word in x if word not in string.punctuation])\n",
    "df['token_count'] = df['body_tokens'].apply(lambda x: len(x))\n",
    "\n",
    "#view the dataframe\n",
    "df"
   ]
  },
  {
   "cell_type": "code",
   "execution_count": null,
   "metadata": {
    "collapsed": false
   },
   "outputs": [],
   "source": [
    "#Read in dictionary files\n",
    "pos_sent = open(\"../data/positive_words.txt\", encoding='utf-8').read()\n",
    "neg_sent = open(\"../data/negative_words.txt\", encoding='utf-8').read()\n",
    "\n",
    "#view part of the pos_sent variable, to see how it's formatted.\n",
    "print(pos_sent[:101])"
   ]
  },
  {
   "cell_type": "code",
   "execution_count": null,
   "metadata": {
    "collapsed": false
   },
   "outputs": [],
   "source": [
    "#remember the split function? We'll split on the newline character (\\n) to create a list\n",
    "positive_words=pos_sent.split('\\n')\n",
    "negative_words=neg_sent.split('\\n')\n",
    "\n",
    "#view the first elements in the lists\n",
    "print(positive_words[:10])\n",
    "print(negative_words[:10])"
   ]
  },
  {
   "cell_type": "markdown",
   "metadata": {},
   "source": [
    "Great! You know what to do now.\n",
    "\n",
    "Exercise:\n",
    "1. Create a column with the number of positive words, and another with the proportion of positive words\n",
    "2. Create a column with the number of negative words, and another with the proportion of negative words\n",
    "3. Print the average proportion of negative and positive words by genre\n",
    "4. Compare this to the average score by genre"
   ]
  },
  {
   "cell_type": "code",
   "execution_count": null,
   "metadata": {
    "collapsed": false
   },
   "outputs": [],
   "source": [
    "#exercise code here\n",
    "#1. Create a column with the number of positive words and another with the proportion of positive words\n",
    "df['pos_num'] = df['body_tokens'].apply(lambda x: len([word for word in x if word in positive_words]))\n",
    "df['pos_prop'] = df['pos_num']/df['token_count']\n",
    "\n",
    "#2. Create a column with the number of negative words, and another with the proportion of negative words\n",
    "df['neg_num'] = df['body_tokens'].apply(lambda x: len([word for word in x if word in negative_words]))\n",
    "df['neg_prop'] = df['neg_num']/df['token_count']\n",
    "\n",
    "df"
   ]
  },
  {
   "cell_type": "code",
   "execution_count": null,
   "metadata": {
    "collapsed": false
   },
   "outputs": [],
   "source": [
    "#3. Print the average proportion of negative and positive words by genre\n",
    "grouped = df.groupby('genre')\n",
    "print(\"Averge proportion of positive words by genre\")\n",
    "print(grouped['pos_prop'].mean().sort_values(ascending=False))\n",
    "print()\n",
    "print(\"Averge proportion of negative words by genre\")\n",
    "grouped['neg_prop'].mean().sort_values(ascending=False)"
   ]
  },
  {
   "cell_type": "code",
   "execution_count": null,
   "metadata": {
    "collapsed": false
   },
   "outputs": [],
   "source": [
    "# 4. Compare this to the average score by genre\n",
    "print(\"Averge score by genre\")\n",
    "grouped['score'].mean().sort_values(ascending=False)"
   ]
  },
  {
   "cell_type": "markdown",
   "metadata": {},
   "source": [
    "### 3. Dictionary Method using Scikit-learn\n",
    "\n",
    "We can also do this using the document term matrix. We'll again do this in pandas, to make it conceptually clear. As you get more comfortable with programming you may want to eventually shift over to working with sparse matrix format."
   ]
  },
  {
   "cell_type": "code",
   "execution_count": null,
   "metadata": {
    "collapsed": false
   },
   "outputs": [],
   "source": [
    "#import the function CountVectorizer\n",
    "from sklearn.feature_extraction.text import CountVectorizer\n",
    "\n",
    "countvec = CountVectorizer()\n",
    "\n",
    "#create our document term matrix as a pandas dataframe\n",
    "dtm_df = pandas.DataFrame(countvec.fit_transform(df.body).toarray(), columns=countvec.get_feature_names(), index = df.index)"
   ]
  },
  {
   "cell_type": "markdown",
   "metadata": {},
   "source": [
    "Now we can keep only those *columns* that occur in our positive words list. To do this, we'll first save a list of the columns names as a variable, and then only keep the elements of the list that occur in our positive words list. We'll then create a new dataframe keeping only those select columns."
   ]
  },
  {
   "cell_type": "code",
   "execution_count": null,
   "metadata": {
    "collapsed": false
   },
   "outputs": [],
   "source": [
    "#create a columns variable that is a list of all column names\n",
    "columns = list(dtm_df)\n",
    "pos_columns = [word for word in columns if word in positive_words]\n",
    "\n",
    "#create a dtm from our dtm_df that keeps only positive sentiment columns\n",
    "dtm_pos = dtm_df[pos_columns]\n",
    "\n",
    "#count the number of positive words for each document\n",
    "dtm_pos['pos_count'] = dtm_pos.sum(axis=1)\n",
    "#dtm_pos.drop('pos_count',axis=1, inplace=True)\n",
    "dtm_pos['pos_count']"
   ]
  },
  {
   "cell_type": "markdown",
   "metadata": {},
   "source": [
    "EX: Do the same for negative words.  \n",
    "EX: Calculate the proportion of negative and positive words for each document."
   ]
  },
  {
   "cell_type": "code",
   "execution_count": null,
   "metadata": {
    "collapsed": false
   },
   "outputs": [],
   "source": [
    "#EX: Do the same for negative words.\n",
    "\n",
    "neg_columns = [word for word in columns if word in negative_words]\n",
    "dtm_neg = dtm_df[neg_columns]\n",
    "\n",
    "dtm_neg['neg_count'] = dtm_neg.sum(axis=1)\n",
    "dtm_neg['neg_count']"
   ]
  },
  {
   "cell_type": "code",
   "execution_count": null,
   "metadata": {
    "collapsed": false
   },
   "outputs": [],
   "source": [
    "#EX: Calculate the proportion of negative and positive words for each document.\n",
    "\n",
    "dtm_pos['pos_proportion'] = dtm_pos['pos_count']/dtm_df.sum(axis=1)\n",
    "print(dtm_pos['pos_proportion'])\n",
    "print()\n",
    "dtm_neg['neg_proportion'] = dtm_neg['neg_count']/dtm_df.sum(axis=1)\n",
    "print(dtm_neg['neg_proportion'])"
   ]
  }
 ],
 "metadata": {
  "kernelspec": {
   "display_name": "Python 3",
   "language": "python",
   "name": "python3"
  },
  "language_info": {
   "codemirror_mode": {
    "name": "ipython",
    "version": 3
   },
   "file_extension": ".py",
   "mimetype": "text/x-python",
   "name": "python",
   "nbconvert_exporter": "python",
   "pygments_lexer": "ipython3",
   "version": "3.5.2"
  }
 },
 "nbformat": 4,
 "nbformat_minor": 0
}

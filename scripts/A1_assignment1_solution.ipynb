{
 "cells": [
  {
   "cell_type": "markdown",
   "metadata": {},
   "source": [
    "# Assignment 1: Gender and Pronouns\n",
    "\n",
    "### Assignment\n",
    "\n",
    "[Research has shown](https://www.researchgate.net/publication/253291274_Gender_Differences_in_Language_Use_An_Analysis_of_14000_Text_Samples) that women use more personal pronouns compared to men. Your task is to further this research and explore whether there is a difference between the use of personal pronouns and possessive pronouns by men and women authors in our children's literature data, and whether there is a difference in the way in which they use these pronouns.\n",
    "\n",
    "For this assignment you should write and submit a Jupyter notebook that:\n",
    "\n",
    "1. Tests whether female authors use proportionally more *personal* pronouns compared to male authors in our collection of 19th century children's literature. \n",
    "2. Tests whether, on average, female authors use more *possessive* pronouns compared to male authors in the same collection.\n",
    "3. Compares the way in which one personal pronoun and one possessive pronoun of your choosing is used by male and female authors. Do this by showing what other words are used in the same context as the pronouns you choose to compare.\n",
    "\n",
    "More specifically, in your notebook you should:\n",
    "\n",
    "1. Calculate and print the total number of personal pronouns and possessive pronouns used by female and male authors\n",
    "2. Calculate and print the average number, by novel, of personal and possessive pronouns for the two groups\n",
    "3. Visualize the output from (2), including error bars\n",
    "4. Include one cell where you interpret this output\n",
    "5. Choose one personal pronoun and one possessive pronoun to compare\n",
    "6. Print out the words used in a similar context as your two chosen pronouns for all of the novels writen by men, and again for all of the novels written by women\n",
    "7. Include a final cell where you interpret this output, and suggest at least one implication of all of your calculations for our understanding of the social world\n",
    "\n",
    "Because of the length of these novels I suggest not using a part-of-speech tagger. Instead, you may use a list of personal and possessive pronouns:\n",
    "\n",
    "Personal pronouns: I, you, he, she, it, we, they, what, who, me, him, her, us, them  \n",
    "Possessive pronouns: mine, yours, his, hers, ours, theirs\n",
    "\n",
    "Hint: Depending on your approach, you may need to use a lambda function.\n",
    "\n",
    "### Due Wednesday, February 22\n",
    "\n",
    "Bring this completed notebook to class on Wednesday, Februrary 22.\n",
    "\n",
    "In class, you will pair up with a classmate and compare and contrast your notebooks. \n",
    "\n",
    "Then, as a pair, create a new notebook that:\n",
    "\n",
    "1. Compares and constrasts your two approaches, and summarizes what you learned about pronoun use in the data.\n",
    "2. Come up with three (3) substantive questions you could potentially answer using the techniques we have learned so far in class. The questions may address any potential (but realistic) corpus; they should not be limited to the data we have in our folder.\n",
    "\n",
    "By the end of the class on Wednesday you must submit, to bCourses:\n",
    "\n",
    "1. Your completed notebook addressing the assignment questions above (which you may modify during class). **Make sure you rename your notebook, and include your last name in the file name.**\n",
    "2. The notebook you wrote with your classmate that compares your two approaches and includes your three substantive questions. Only one of you needs to submit this notebook, but include both names in the opening cell of your notebook.\n",
    "\n",
    "### Grading Rubric\n",
    "\n",
    "The assignment will be graded on a three point scale.\n",
    "\n",
    "+1 for submitting the completed, original assignment  \n",
    "+1 for the thoughtfulness of your interpretation  \n",
    "+1 for the thoughtfulness of the comparison between your two notenooks and the three substantive questions \n",
    "\n",
    "\"Thoughfulness\" will be determined by (1) whether or not your interpretation is approprate for the techniques you used and your output, and (2) how well your interpretation/questions relates to a humanities, social science, or science perspective on the social worlds.\n",
    "\n",
    "Remember, this assignment, along with the second assignment, comprise 15% of your final grade."
   ]
  },
  {
   "cell_type": "code",
   "execution_count": 4,
   "metadata": {
    "collapsed": false
   },
   "outputs": [
    {
     "data": {
      "text/html": [
       "<div>\n",
       "<table border=\"1\" class=\"dataframe\">\n",
       "  <thead>\n",
       "    <tr style=\"text-align: right;\">\n",
       "      <th></th>\n",
       "      <th>title</th>\n",
       "      <th>author gender</th>\n",
       "      <th>year</th>\n",
       "      <th>text</th>\n",
       "    </tr>\n",
       "  </thead>\n",
       "  <tbody>\n",
       "    <tr>\n",
       "      <th>0</th>\n",
       "      <td>A Dog with a Bad Name</td>\n",
       "      <td>Male</td>\n",
       "      <td>1886</td>\n",
       "      <td>A DOG WITH A BAD NAME  BY TALBOT BAINES REED  ...</td>\n",
       "    </tr>\n",
       "    <tr>\n",
       "      <th>1</th>\n",
       "      <td>A Final Reckoning</td>\n",
       "      <td>Male</td>\n",
       "      <td>1887</td>\n",
       "      <td>A Final Reckoning: A Tale of Bush Life in Aust...</td>\n",
       "    </tr>\n",
       "    <tr>\n",
       "      <th>2</th>\n",
       "      <td>A House Party, Don Gesualdo, and A Rainy June</td>\n",
       "      <td>Female</td>\n",
       "      <td>1887</td>\n",
       "      <td>A HOUSE-PARTY  Don Gesualdo  and  A Rainy June...</td>\n",
       "    </tr>\n",
       "    <tr>\n",
       "      <th>3</th>\n",
       "      <td>A Houseful of Girls</td>\n",
       "      <td>Female</td>\n",
       "      <td>1889</td>\n",
       "      <td>A HOUSEFUL OF GIRLS. BY SARAH TYTLER,  AUTHOR ...</td>\n",
       "    </tr>\n",
       "    <tr>\n",
       "      <th>4</th>\n",
       "      <td>A Little Country Girl</td>\n",
       "      <td>Female</td>\n",
       "      <td>1885</td>\n",
       "      <td>LITTLE COUNTRY GIRL.  BY  SUSAN COOLIDGE,     ...</td>\n",
       "    </tr>\n",
       "    <tr>\n",
       "      <th>5</th>\n",
       "      <td>A Round Dozen</td>\n",
       "      <td>Female</td>\n",
       "      <td>1883</td>\n",
       "      <td>\\n A ROUND DOZEN.  [Illustration: TOINETTE AND...</td>\n",
       "    </tr>\n",
       "    <tr>\n",
       "      <th>6</th>\n",
       "      <td>A Sailor's Lass</td>\n",
       "      <td>Female</td>\n",
       "      <td>1886</td>\n",
       "      <td>A SAILOR'S LASS  by  EMMA LESLIE,  Author of \"...</td>\n",
       "    </tr>\n",
       "    <tr>\n",
       "      <th>7</th>\n",
       "      <td>A World of Girls</td>\n",
       "      <td>Female</td>\n",
       "      <td>1886</td>\n",
       "      <td>A WORLD OF GIRLS:  THE STORY OF A SCHOOL.  By ...</td>\n",
       "    </tr>\n",
       "    <tr>\n",
       "      <th>8</th>\n",
       "      <td>Adrift in the Wild</td>\n",
       "      <td>Male</td>\n",
       "      <td>1887</td>\n",
       "      <td>Adrift in the Wilds;          ...</td>\n",
       "    </tr>\n",
       "    <tr>\n",
       "      <th>9</th>\n",
       "      <td>Adventures in Africa</td>\n",
       "      <td>Male</td>\n",
       "      <td>1883</td>\n",
       "      <td>ADVENTURES IN AFRICA, BY W.H.G. KINGSTON.    C...</td>\n",
       "    </tr>\n",
       "  </tbody>\n",
       "</table>\n",
       "</div>"
      ],
      "text/plain": [
       "                                           title author gender  year  \\\n",
       "0                          A Dog with a Bad Name          Male  1886   \n",
       "1                              A Final Reckoning          Male  1887   \n",
       "2  A House Party, Don Gesualdo, and A Rainy June        Female  1887   \n",
       "3                            A Houseful of Girls        Female  1889   \n",
       "4                          A Little Country Girl        Female  1885   \n",
       "5                                  A Round Dozen        Female  1883   \n",
       "6                                A Sailor's Lass        Female  1886   \n",
       "7                               A World of Girls        Female  1886   \n",
       "8                             Adrift in the Wild          Male  1887   \n",
       "9                           Adventures in Africa          Male  1883   \n",
       "\n",
       "                                                text  \n",
       "0  A DOG WITH A BAD NAME  BY TALBOT BAINES REED  ...  \n",
       "1  A Final Reckoning: A Tale of Bush Life in Aust...  \n",
       "2  A HOUSE-PARTY  Don Gesualdo  and  A Rainy June...  \n",
       "3  A HOUSEFUL OF GIRLS. BY SARAH TYTLER,  AUTHOR ...  \n",
       "4  LITTLE COUNTRY GIRL.  BY  SUSAN COOLIDGE,     ...  \n",
       "5  \\n A ROUND DOZEN.  [Illustration: TOINETTE AND...  \n",
       "6  A SAILOR'S LASS  by  EMMA LESLIE,  Author of \"...  \n",
       "7  A WORLD OF GIRLS:  THE STORY OF A SCHOOL.  By ...  \n",
       "8                  Adrift in the Wilds;          ...  \n",
       "9  ADVENTURES IN AFRICA, BY W.H.G. KINGSTON.    C...  "
      ]
     },
     "execution_count": 4,
     "metadata": {},
     "output_type": "execute_result"
    }
   ],
   "source": [
    "#use this code to get you started\n",
    "import pandas\n",
    "import nltk\n",
    "import matplotlib.pyplot as plt\n",
    "\n",
    "#read in our data, remove rows with missing texts, check the df variable\n",
    "df = pandas.read_csv(\"../data/childrens_lit.csv.bz2\", sep = '\\t', encoding = 'utf-8', compression = 'bz2', index_col=0)\n",
    "df = df.dropna(subset=[\"text\"])\n",
    "#df = df.sample(n=10)\n",
    "df = df[:10]\n",
    "df"
   ]
  },
  {
   "cell_type": "code",
   "execution_count": 7,
   "metadata": {
    "collapsed": false
   },
   "outputs": [
    {
     "name": "stdout",
     "output_type": "stream",
     "text": [
      "author gender\n",
      "Female    [a, house-party, don, gesualdo, and, a, rainy,...\n",
      "Male      [a, dog, with, a, bad, name, by, talbot, baine...\n",
      "dtype: object\n",
      "author gender\n",
      "Female    1561867\n",
      "Male      8308406\n",
      "Name: wc, dtype: int64\n",
      "author gender\n",
      "Female    0.084313\n",
      "Male      0.068732\n",
      "Name: prop_pronouns, dtype: float64\n"
     ]
    },
    {
     "data": {
      "image/png": "[encoded data removed]",
      "text/plain": [
       "<matplotlib.figure.Figure at 0x7fe5e1051128>"
      ]
     },
     "metadata": {},
     "output_type": "display_data"
    }
   ],
   "source": [
    "df['text'] = df['text'].str.lower()\n",
    "sp = ['i', 'you', 'he', 'she', 'it', 'we', 'they', 'what', 'who', 'me', 'him', 'her', 'us', 'them']\n",
    "pp = ['mine', 'yours', 'his', 'hers', 'ours', 'theirs']\n",
    "df['pronouns'] = df['text'].str.split()\n",
    "df['wc'] = df['pronouns'].apply(len)\n",
    "df['num_pronouns'] = df['pronouns'].apply(lambda x: len([w for w in x if w in sp]))\n",
    "df['prop_pronouns'] = df['num_pronouns']/df['wc']\n",
    "\n",
    "grouped = df.groupby('author gender')\n",
    "print(grouped['pronouns'].sum())\n",
    "print(grouped['wc'].sum())\n",
    "print(grouped['prop_pronouns'].mean())\n",
    "grouped['prop_pronouns'].mean().plot(kind = 'bar', yerr = (grouped['prop_pronouns'].std()))\n",
    "plt.show()"
   ]
  },
  {
   "cell_type": "code",
   "execution_count": 5,
   "metadata": {
    "collapsed": false
   },
   "outputs": [
    {
     "name": "stdout",
     "output_type": "stream",
     "text": [
      "her me you them him it the herself which annie what and all that be\n",
      "his do dora say may\n",
      "him them you me it that her which himself reuben the and percy work\n",
      "course jeffreys this see tim be\n"
     ]
    }
   ],
   "source": [
    "female = df[df['author gender']==\"Female\"]\n",
    "f_text = ''.join(x for x in female['text'].tolist())\n",
    "f_text_token = nltk.word_tokenize(f_text)\n",
    "f_nltk = nltk.Text(f_text_token)\n",
    "\n",
    "male = df[df['author gender']==\"Male\"]\n",
    "m_text = ''.join(x for x in male['text'].tolist())\n",
    "\n",
    "del df\n",
    "#df = None\n",
    "gc.collect()\n",
    "\n",
    "m_text_token = nltk.word_tokenize(m_text)\n",
    "m_nltk = nltk.Text(m_text_token)\n",
    "\n",
    "#m_nltk.concordance('us')\n",
    "my_var = f_nltk.similar('us')\n",
    "m_nltk.similar('us')"
   ]
  },
  {
   "cell_type": "code",
   "execution_count": 3,
   "metadata": {
    "collapsed": false
   },
   "outputs": [
    {
     "data": {
      "text/plain": [
       "0"
      ]
     },
     "execution_count": 3,
     "metadata": {},
     "output_type": "execute_result"
    }
   ],
   "source": [
    "import gc\n",
    "\n",
    "gc.isenabled()\n",
    "gc.collect()"
   ]
  },
  {
   "cell_type": "code",
   "execution_count": 6,
   "metadata": {
    "collapsed": false
   },
   "outputs": [
    {
     "name": "stdout",
     "output_type": "stream",
     "text": [
      "None\n"
     ]
    }
   ],
   "source": [
    "print(my_var)"
   ]
  }
 ],
 "metadata": {
  "kernelspec": {
   "display_name": "Python 3",
   "language": "python",
   "name": "python3"
  },
  "language_info": {
   "codemirror_mode": {
    "name": "ipython",
    "version": 3
   },
   "file_extension": ".py",
   "mimetype": "text/x-python",
   "name": "python",
   "nbconvert_exporter": "python",
   "pygments_lexer": "ipython3",
   "version": "3.5.2"
  }
 },
 "nbformat": 4,
 "nbformat_minor": 2
}

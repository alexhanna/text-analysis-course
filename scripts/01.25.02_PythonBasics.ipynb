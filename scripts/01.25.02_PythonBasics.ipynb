{
 "cells": [
  {
   "cell_type": "markdown",
   "metadata": {
    "collapsed": true
   },
   "source": [
    "# Introduction to Python for Natural Language Processing\n",
    "\n",
    "## Adapted from a lesson by Teddy Roland\n",
    "\n",
    "### Lesson Goals\n",
    "\n",
    "* Learn the basics of the Python programming language\n",
    "* Start to build an intution about how computers may help us analyze text\n",
    "\n",
    "### Outline\n",
    "<ul>\n",
    "    <li>Basic Data Types & Operations</li>\n",
    "    <ul>\n",
    "        <li>Arithmetic</li>\n",
    "        <li>Variable Assignment</li>\n",
    "        <li>Strings</li>\n",
    "        <li>Lists</li>\n",
    "    </ul>\n",
    "    <li>A few tricks up your sleeve</li>\n",
    "    <ul>\n",
    "        <li>String Methods</li>\n",
    "        <li>List Comprehension</li>\n",
    "    </ul>\n",
    "</ul>\n",
    "\n",
    "### Key Terms\n",
    "\n",
    "* *coding or programming*: \n",
    "    * The purpose of programming is to find a sequence of instructions that will enable a computer to perform a specific task or solve a given problem. It involves writing those instructions in a specific *programming language*, in our case, Python.\n",
    "* *script*:\n",
    "    * A block of executable code, typically saved in a executable file. For example, script1.py\n",
    "* *packages and modules*: \n",
    "    * Python files, or collections of files, that implement a set of pre-made functions (so we don't have to write all of the functions ourselves). To utilize a module we use the import function.\n",
    "* *parse*: \n",
    "    * the process of analysing a string of symbols, in this case the symbols that make up natural language. This can also include understanding, or parsing, computer code.\n",
    "* *variable*: \n",
    "    * A variable is something that holds a value that may change. In simplest terms, a variable is just a box that you can put stuff in. You can use variables to store all kinds of stuff, including numbers and letters.\n",
    "* *assigning a variable*: \n",
    "    * telling Python what you want to name the variable, and what is stored in the variable.\n",
    "* *string*: \n",
    "    * a type of variable the consists of a sequence of characters in a particular order. Characters can be anything, including letters or numbers. The order of a string is fixed.\n",
    "* *list*: \n",
    "    * a type of variable that consists of a sequence of elements. The order is fixed."
   ]
  },
  {
   "cell_type": "code",
   "execution_count": 2,
   "metadata": {
    "collapsed": false
   },
   "outputs": [
    {
     "data": {
      "text/plain": [
       "7"
      ]
     },
     "execution_count": 2,
     "metadata": {},
     "output_type": "execute_result"
    }
   ],
   "source": [
    "# Addition\n",
    "\n",
    "2+5"
   ]
  },
  {
   "cell_type": "code",
   "execution_count": 3,
   "metadata": {
    "collapsed": false
   },
   "outputs": [
    {
     "name": "stdout",
     "output_type": "stream",
     "text": [
      "-3\n",
      "10\n",
      "0.4\n"
     ]
    }
   ],
   "source": [
    "# Let's have Python report the results from three operations at the same time\n",
    "\n",
    "print(2-5)\n",
    "print(2*5)\n",
    "print(2/5)"
   ]
  },
  {
   "cell_type": "code",
   "execution_count": 4,
   "metadata": {
    "collapsed": false
   },
   "outputs": [
    {
     "data": {
      "text/plain": [
       "(-3, 10, 0.4)"
      ]
     },
     "execution_count": 4,
     "metadata": {},
     "output_type": "execute_result"
    }
   ],
   "source": [
    "# If we have all of our operations in the last line of the cell, Jupyter will print them together\n",
    "\n",
    "2-5, 2*5, 2/5"
   ]
  },
  {
   "cell_type": "code",
   "execution_count": 5,
   "metadata": {
    "collapsed": false
   },
   "outputs": [
    {
     "data": {
      "text/plain": [
       "False"
      ]
     },
     "execution_count": 5,
     "metadata": {},
     "output_type": "execute_result"
    }
   ],
   "source": [
    "# And let's compare values\n",
    "\n",
    "2>5"
   ]
  },
  {
   "cell_type": "markdown",
   "metadata": {},
   "source": [
    "## Variable assignment\n",
    "\n",
    "Assigning variables is something that we do all the time in programming. These aren't quite like the variables from high school algebra, where <i>x</i> represents an unknown to solve for. Instead these are like notes to ourselves that we want to save some value(s) for later use.\n",
    "\n",
    "Note that the equals sign is directional, like an arrow, telling the computer to give a certain value to a certain label."
   ]
  },
  {
   "cell_type": "code",
   "execution_count": 6,
   "metadata": {
    "collapsed": false
   },
   "outputs": [],
   "source": [
    "# 'a' is being given the value 2; 'b' is given 5\n",
    "\n",
    "a = 2\n",
    "b = 5"
   ]
  },
  {
   "cell_type": "code",
   "execution_count": 7,
   "metadata": {
    "collapsed": false
   },
   "outputs": [
    {
     "data": {
      "text/plain": [
       "7"
      ]
     },
     "execution_count": 7,
     "metadata": {},
     "output_type": "execute_result"
    }
   ],
   "source": [
    "# Let's perform an operation on the variables\n",
    "\n",
    "a+b"
   ]
  },
  {
   "cell_type": "code",
   "execution_count": 8,
   "metadata": {
    "collapsed": false
   },
   "outputs": [
    {
     "data": {
      "text/plain": [
       "2.5"
      ]
     },
     "execution_count": 8,
     "metadata": {},
     "output_type": "execute_result"
    }
   ],
   "source": [
    "# Variables can have many different kinds of names\n",
    "\n",
    "this_number = 2\n",
    "b/this_number"
   ]
  },
  {
   "cell_type": "markdown",
   "metadata": {},
   "source": [
    "## Strings\n",
    "\n",
    "In Python, human language text gets represented as a <i>string</i>. These contain sequential sets of characters and they are offset by quotation marks, either double (\") or single (').\n",
    "\n",
    "We will explore different kinds of operations in Python that are specific to human language objects, but it is useful to start by trying to see them as the computer does, as numerical representations."
   ]
  },
  {
   "cell_type": "code",
   "execution_count": 9,
   "metadata": {
    "collapsed": false
   },
   "outputs": [
    {
     "name": "stdout",
     "output_type": "stream",
     "text": [
      "Hello, World!\n"
     ]
    }
   ],
   "source": [
    "# The iconic string\n",
    "\n",
    "print(\"Hello, World!\")"
   ]
  },
  {
   "cell_type": "code",
   "execution_count": 10,
   "metadata": {
    "collapsed": true
   },
   "outputs": [],
   "source": [
    "# Assign these strings to variables\n",
    "\n",
    "a = \"Hello\"\n",
    "b = 'World'"
   ]
  },
  {
   "cell_type": "code",
   "execution_count": 12,
   "metadata": {
    "collapsed": false
   },
   "outputs": [
    {
     "name": "stdout",
     "output_type": "stream",
     "text": [
      "Hello World\n",
      "HelloHelloHelloHelloHello\n"
     ]
    }
   ],
   "source": [
    "# Try out arithmetic operations.\n",
    "# When we add strings we call it 'concatenation'\n",
    "\n",
    "print(a+\" \"+b)\n",
    "print(a*5)"
   ]
  },
  {
   "cell_type": "code",
   "execution_count": 13,
   "metadata": {
    "collapsed": false
   },
   "outputs": [
    {
     "data": {
      "text/plain": [
       "13"
      ]
     },
     "execution_count": 13,
     "metadata": {},
     "output_type": "execute_result"
    }
   ],
   "source": [
    "# Unlike a number that consists of a single value, a string is an ordered\n",
    "# sequence of characters. We can find out the length of that sequence.\n",
    "\n",
    "len(\"Hello, World!\")"
   ]
  },
  {
   "cell_type": "code",
   "execution_count": 14,
   "metadata": {
    "collapsed": false
   },
   "outputs": [
    {
     "data": {
      "text/plain": [
       "52"
      ]
     },
     "execution_count": 14,
     "metadata": {},
     "output_type": "execute_result"
    }
   ],
   "source": [
    "## EX. How long is the string below?\n",
    "\n",
    "this_string = \"It was the best of times; it was the worst of times.\"\n",
    "len(this_string)"
   ]
  },
  {
   "cell_type": "markdown",
   "metadata": {},
   "source": [
    "## Lists\n",
    "\n",
    "The <i>numbers</i> and <i>strings</i> we have just looked at are the two basic data types that we will focus our attention on in this workshop. (In a few days, we will look at a third data type, <i>boolean</i>, which consists of just True/False values.) When we are working with just a few numbers or strings, it is easy to keep track of them, but as we collect more we will want a system to organize them.\n",
    "\n",
    "One such organizational system is a <i>list</i>. This contains values (regardless of type) in order, and we can perform operations on it very similarly to the way we did with numbers."
   ]
  },
  {
   "cell_type": "code",
   "execution_count": 15,
   "metadata": {
    "collapsed": false
   },
   "outputs": [
    {
     "data": {
      "text/plain": [
       "['Call', 'me', 'Ishmael']"
      ]
     },
     "execution_count": 15,
     "metadata": {},
     "output_type": "execute_result"
    }
   ],
   "source": [
    "# A list in which each element is a string\n",
    "\n",
    "['Call', 'me', 'Ishmael']"
   ]
  },
  {
   "cell_type": "code",
   "execution_count": 16,
   "metadata": {
    "collapsed": true
   },
   "outputs": [],
   "source": [
    "# Let's assign a couple lists to variables\n",
    "\n",
    "list1 = ['Call', 'me', 'Ishmael']\n",
    "list2 = ['In', 'the', 'beginning']"
   ]
  },
  {
   "cell_type": "code",
   "execution_count": 17,
   "metadata": {
    "collapsed": false
   },
   "outputs": [
    {
     "name": "stdout",
     "output_type": "stream",
     "text": [
      "['Call', 'me', 'Ishmael', 'In', 'the', 'beginning']\n",
      "['Call', 'me', 'Ishmael', 'Call', 'me', 'Ishmael', 'Call', 'me', 'Ishmael', 'Call', 'me', 'Ishmael', 'Call', 'me', 'Ishmael']\n"
     ]
    }
   ],
   "source": [
    "## Q. Predict what will happen when we perform the following operations\n",
    "\n",
    "print(list1+list2)\n",
    "print(list1*5)"
   ]
  },
  {
   "cell_type": "code",
   "execution_count": 18,
   "metadata": {
    "collapsed": false
   },
   "outputs": [
    {
     "data": {
      "text/plain": [
       "3"
      ]
     },
     "execution_count": 18,
     "metadata": {},
     "output_type": "execute_result"
    }
   ],
   "source": [
    "# As with a string, we can find out the length of a list\n",
    "\n",
    "len(list1)"
   ]
  },
  {
   "cell_type": "code",
   "execution_count": 19,
   "metadata": {
    "collapsed": false
   },
   "outputs": [
    {
     "name": "stdout",
     "output_type": "stream",
     "text": [
      "Call\n",
      "me\n",
      "Ishmael\n"
     ]
    }
   ],
   "source": [
    "# Sometimes we just want a single value from the list at a time\n",
    "\n",
    "print(list1[0])\n",
    "print(list1[1])\n",
    "print(list1[2])"
   ]
  },
  {
   "cell_type": "code",
   "execution_count": 20,
   "metadata": {
    "collapsed": false
   },
   "outputs": [
    {
     "name": "stdout",
     "output_type": "stream",
     "text": [
      "['Call', 'me']\n",
      "['Call', 'me']\n"
     ]
    }
   ],
   "source": [
    "# Or maybe we want the first few\n",
    "\n",
    "print(list1[0:2])\n",
    "print(list1[:2])"
   ]
  },
  {
   "cell_type": "code",
   "execution_count": 21,
   "metadata": {
    "collapsed": true
   },
   "outputs": [],
   "source": [
    "# Of course, lists can contain numbers or even a mix of numbers and strings\n",
    "\n",
    "list3 = [7,8,9]\n",
    "list4 = [7,'ate',9]"
   ]
  },
  {
   "cell_type": "code",
   "execution_count": 22,
   "metadata": {
    "collapsed": false
   },
   "outputs": [
    {
     "data": {
      "text/plain": [
       "24"
      ]
     },
     "execution_count": 22,
     "metadata": {},
     "output_type": "execute_result"
    }
   ],
   "source": [
    "# And python is smart with numbers, so we can add them easily!\n",
    "\n",
    "sum(list3)"
   ]
  },
  {
   "cell_type": "code",
   "execution_count": 28,
   "metadata": {
    "collapsed": false
   },
   "outputs": [
    {
     "data": {
      "text/plain": [
       "['In', 'the', 'beginning']"
      ]
     },
     "execution_count": 28,
     "metadata": {},
     "output_type": "execute_result"
    }
   ],
   "source": [
    "## EX. Concatenate 'list1' and 'list2' into a single list.\n",
    "##     Retrieve the third element from the combined list.\n",
    "##     Retrieve the fourth through sixth elements from the combined list.\n",
    "new_list = list1+list2\n",
    "new_list[3:]"
   ]
  },
  {
   "cell_type": "markdown",
   "metadata": {},
   "source": [
    "## String Methods\n",
    "\n",
    "The creators of Python recognize that human language has many important yet idiosyncratic features, so they have tried to make it easy for us to identify and manipulate them. For example, in the demonstration at the very beginning of the workshop, we referred to the idea of the suffix: the final letters of a word tell us something about its grammatical role and potentially the author's argument.\n",
    "\n",
    "We can analyze or manipulate certain features of a string using its <i>methods</i>. These are basically internal functions that every string automatically possesses. Note that even though the method may transform the string at hand, they don't change it permanently!"
   ]
  },
  {
   "cell_type": "code",
   "execution_count": 29,
   "metadata": {
    "collapsed": true
   },
   "outputs": [],
   "source": [
    "# Let's assign a variable to perform methods upon\n",
    "\n",
    "greeting = \"Hello, World!\""
   ]
  },
  {
   "cell_type": "code",
   "execution_count": 30,
   "metadata": {
    "collapsed": false
   },
   "outputs": [
    {
     "data": {
      "text/plain": [
       "(True, False)"
      ]
     },
     "execution_count": 30,
     "metadata": {},
     "output_type": "execute_result"
    }
   ],
   "source": [
    "# We saw the 'endswith' method at the very beginning\n",
    "# Note the type of output that gets printed\n",
    "\n",
    "greeting.startswith('H'), greeting.endswith('d')"
   ]
  },
  {
   "cell_type": "code",
   "execution_count": 31,
   "metadata": {
    "collapsed": false
   },
   "outputs": [
    {
     "data": {
      "text/plain": [
       "True"
      ]
     },
     "execution_count": 31,
     "metadata": {},
     "output_type": "execute_result"
    }
   ],
   "source": [
    "# We can check whether the string is a letter or a number\n",
    "\n",
    "this_string = 'f'\n",
    "\n",
    "this_string.isalpha()"
   ]
  },
  {
   "cell_type": "code",
   "execution_count": 34,
   "metadata": {
    "collapsed": false
   },
   "outputs": [
    {
     "data": {
      "text/plain": [
       "(False, False)"
      ]
     },
     "execution_count": 34,
     "metadata": {},
     "output_type": "execute_result"
    }
   ],
   "source": [
    "# When there are multiple characters, it checks whether *all*\n",
    "# of the characters belong to that category\n",
    "\n",
    "greeting.isalpha(), greeting.isdigit()"
   ]
  },
  {
   "cell_type": "code",
   "execution_count": 35,
   "metadata": {
    "collapsed": false
   },
   "outputs": [
    {
     "data": {
      "text/plain": [
       "(False, False, True)"
      ]
     },
     "execution_count": 35,
     "metadata": {},
     "output_type": "execute_result"
    }
   ],
   "source": [
    "# Similarly, we can check whether the string is lower or upper case\n",
    "\n",
    "greeting.islower(), greeting.isupper(), greeting.istitle()"
   ]
  },
  {
   "cell_type": "code",
   "execution_count": 36,
   "metadata": {
    "collapsed": false
   },
   "outputs": [
    {
     "data": {
      "text/plain": [
       "('hello, world!', 'HELLO, WORLD!')"
      ]
     },
     "execution_count": 36,
     "metadata": {},
     "output_type": "execute_result"
    }
   ],
   "source": [
    "# Sometimes we want not just to check, but to change the string\n",
    "\n",
    "greeting.lower(), greeting.upper()"
   ]
  },
  {
   "cell_type": "code",
   "execution_count": 37,
   "metadata": {
    "collapsed": false
   },
   "outputs": [
    {
     "data": {
      "text/plain": [
       "'Hello, World!'"
      ]
     },
     "execution_count": 37,
     "metadata": {},
     "output_type": "execute_result"
    }
   ],
   "source": [
    "# The case of the string hasn't changed!\n",
    "\n",
    "greeting"
   ]
  },
  {
   "cell_type": "code",
   "execution_count": 38,
   "metadata": {
    "collapsed": false
   },
   "outputs": [
    {
     "data": {
      "text/plain": [
       "'hello, world!'"
      ]
     },
     "execution_count": 38,
     "metadata": {},
     "output_type": "execute_result"
    }
   ],
   "source": [
    "# But if we want to permanently make it lower case we re-assign it\n",
    "\n",
    "greeting = greeting.lower()\n",
    "\n",
    "greeting"
   ]
  },
  {
   "cell_type": "code",
   "execution_count": 39,
   "metadata": {
    "collapsed": false
   },
   "outputs": [
    {
     "data": {
      "text/plain": [
       "'hel'"
      ]
     },
     "execution_count": 39,
     "metadata": {},
     "output_type": "execute_result"
    }
   ],
   "source": [
    "# Oh hey. And strings are kind of like lists, so we can slice them similarly\n",
    "\n",
    "greeting[:3]"
   ]
  },
  {
   "cell_type": "code",
   "execution_count": 40,
   "metadata": {
    "collapsed": false
   },
   "outputs": [
    {
     "data": {
      "text/plain": [
       "['hello,', 'world!']"
      ]
     },
     "execution_count": 40,
     "metadata": {},
     "output_type": "execute_result"
    }
   ],
   "source": [
    "# Strings may be like lists of characters, but as humans we often treat them as\n",
    "# lists of words. We tell the computer to can perform that conversion.\n",
    "\n",
    "greeting.split()"
   ]
  },
  {
   "cell_type": "code",
   "execution_count": null,
   "metadata": {
    "collapsed": true
   },
   "outputs": [],
   "source": [
    "## EX. Return the second through eighth characters in 'greeting'\n",
    "\n",
    "## EX. Split the string below into a list of words and assign this to a new variable\n",
    "## Note: A slash at the end of a line allows a string to continue unbroken onto the next"
   ]
  },
  {
   "cell_type": "code",
   "execution_count": 46,
   "metadata": {
    "collapsed": false
   },
   "outputs": [
    {
     "name": "stdout",
     "output_type": "stream",
     "text": [
      "ello, w\n"
     ]
    },
    {
     "data": {
      "text/plain": [
       "['It',\n",
       " 'seems',\n",
       " 'very',\n",
       " 'strange',\n",
       " 'that',\n",
       " 'one',\n",
       " 'must',\n",
       " 'turn',\n",
       " 'back,',\n",
       " 'and',\n",
       " 'be',\n",
       " 'transported',\n",
       " 'to',\n",
       " 'the',\n",
       " 'very',\n",
       " 'beginnings',\n",
       " 'of',\n",
       " 'history,',\n",
       " 'in',\n",
       " 'order',\n",
       " 'to',\n",
       " 'arrive',\n",
       " 'at',\n",
       " 'an',\n",
       " 'understanding',\n",
       " 'of',\n",
       " 'humanity',\n",
       " 'as',\n",
       " 'it',\n",
       " 'is',\n",
       " 'at',\n",
       " 'present.']"
      ]
     },
     "execution_count": 46,
     "metadata": {},
     "output_type": "execute_result"
    }
   ],
   "source": [
    "new_string = \"It seems very strange that one must turn back, \\\n",
    "and be transported to the very beginnings of history, \\\n",
    "in order to arrive at an understanding of humanity as it is at present.\"\n",
    "\n",
    "print(greeting[1:8])\n",
    "new_string_list = new_string.split() \n",
    "new_string_list"
   ]
  },
  {
   "cell_type": "markdown",
   "metadata": {
    "collapsed": true
   },
   "source": [
    "## List Comprehension\n",
    "\n",
    "List comprehensions are a fairly advanced programming technique that we will spend more time talking about tomorrow. For now, you can think of them as list filters. Often, we don't need every value in a list, just a few that fulfill certain criteria."
   ]
  },
  {
   "cell_type": "code",
   "execution_count": 47,
   "metadata": {
    "collapsed": false
   },
   "outputs": [
    {
     "data": {
      "text/plain": [
       "['Call', 'Ishmael']"
      ]
     },
     "execution_count": 47,
     "metadata": {},
     "output_type": "execute_result"
    }
   ],
   "source": [
    "# 'list1' had contained three words, two of which were in title case.\n",
    "# We can automatically return those words using a list comprehension\n",
    "\n",
    "[word for word in list1 if word.istitle()]"
   ]
  },
  {
   "cell_type": "code",
   "execution_count": 49,
   "metadata": {
    "collapsed": false
   },
   "outputs": [
    {
     "name": "stdout",
     "output_type": "stream",
     "text": [
      "C\n",
      "m\n",
      "I\n"
     ]
    }
   ],
   "source": [
    "# Or we can include all the words in the list but just take their first letters\n",
    "\n",
    "[word[0] for word in list1]\n",
    "for word in list1:\n",
    "    print(word[0])"
   ]
  },
  {
   "cell_type": "code",
   "execution_count": 53,
   "metadata": {
    "collapsed": false
   },
   "outputs": [
    {
     "name": "stdout",
     "output_type": "stream",
     "text": [
      "['very', 'very', 'humanity']\n",
      "['I', 's', 'v', 's', 't', 'o', 'm', 't', 'b', 'a', 'b', 't', 't', 't', 'v', 'b', 'o', 'h', 'i', 'o', 't', 'a', 'a', 'a', 'u', 'o', 'h', 'a', 'i', 'i', 'a', 'p']\n",
      "['seems', 'very', 'strange', 'that', 'one', 'must', 'turn', 'back,', 'and', 'transported', 'the', 'very', 'beginnings', 'history,', 'order', 'arrive', 'understanding', 'humanity', 'present.']\n"
     ]
    }
   ],
   "source": [
    "## EX. Using the list of words you produced by splitting 'new_string', create\n",
    "##     a new list that contains only the words whose last letter is \"y\" \n",
    "y_list = [word for word in new_string_list if word.endswith('y')]\n",
    "print(y_list)\n",
    "## EX. Create a new list that contains the first letter of each word.\n",
    "first_letter = [word[0] for word in new_string_list]\n",
    "print(first_letter)\n",
    "## EX. Create a new list that contains only words longer than two letters.\n",
    "long_words = [word for word in new_string_list if len(word)>2]\n",
    "print(long_words)\n"
   ]
  }
 ],
 "metadata": {
  "kernelspec": {
   "display_name": "Python 3",
   "language": "python",
   "name": "python3"
  },
  "language_info": {
   "codemirror_mode": {
    "name": "ipython",
    "version": 3
   },
   "file_extension": ".py",
   "mimetype": "text/x-python",
   "name": "python",
   "nbconvert_exporter": "python",
   "pygments_lexer": "ipython3",
   "version": "3.5.2"
  }
 },
 "nbformat": 4,
 "nbformat_minor": 0
}
